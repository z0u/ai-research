{
 "cells": [
  {
   "cell_type": "markdown",
   "metadata": {
    "id": "h8lFOTW3thzb"
   },
   "source": [
    "# GPT-2 model architecture\n",
    "\n",
    "This is an implementation of the GPT-2 architecture. It's based on [nanoGPT](https://github.com/karpathy/nanoGPT/blob/master/model.py) (Karpathy, 2022) with modifications and prose to make it easier for me to understand.\n",
    "\n",
    "My key takeaways:\n",
    "\n",
    "- The QKV values can be computed simultaneously, because V is the value that a token _would_ contribute if its key matched the query.\n",
    "- The attention dimensions (QKV) are unrelated to the embedding dimension, but they are usually smaller than the embeddings.\n",
    "- The sequence length is not an inhent part of the model, _except_ for the positional encodings. More recent schemes like RoPE make it possible to extend the context length after training¹.\n",
    "- The output sequence $y$ is indeed the input sequence $x$ shifted by one. Therefore, the tokens are effectively shifted forward by the attention mechanism, and by the time they reach the final layer they have been shifted by one².\n",
    "\n",
    "\n",
    "<details>\n",
    "<summary style=\"opacity: 0.5\">Footnotes</summary>\n",
    "¹ Especially in conjunction normalization that forces model vectors only store direction (i.e. unit length) as in nGPT.\n",
    "\n",
    "² I _think_ it should be possible to remove `lm_head` (the logits layer) and just decode the final embeddings directly into tokens\n",
    "</details>"
   ]
  },
  {
   "cell_type": "markdown",
   "metadata": {},
   "source": [
    "## Rotary positional encodings\n",
    "\n",
    "Rotary positional encodings (RoPE) use quite a different scheme from earlier encodings schemes. GPT-2 (which nanoGPT replicates) uses learned embeddings, and the original Attention is All You Need paper used sinusoidal patterns — but in both cases, they were applied to the _input_ token embeddings. RoPE uses sinusoidal patterns, but they are used in attention space ($Q$, $K$) rather than input embedding space.\n",
    "\n",
    "Crucially, RoPE applies sequence position information _as rotation_ of the queries and keys, rather than being simply added to the token embeddings. This means the attention mechanism can learn positional relationships in a way that is more compatible with the \"direction-as-meaning\" embeddings. It also generalises to longer sequences than were seen during training. However, that generalisation is still limited by the kind of normalisation that is applied in the `Block` (layer norm): layer norm is non-geometric, so it distorts the directional interpretation of the vectors.\n",
    "\n",
    "The particular rotation used in RoPE is interesting: the vector components are rotated in pairs, where each pair is considered to be a 2D vector on a plane. The planes are all distinct, so while the embedding as a whole can be considered to be a single direction vector, it's not rotated as a whole (around another axis with as many dimensions). I wonder if doing so would improve things further?"
   ]
  },
  {
   "cell_type": "code",
   "execution_count": 1,
   "metadata": {
    "execution": {
     "iopub.execute_input": "2025-01-08T10:57:49.999984Z",
     "iopub.status.busy": "2025-01-08T10:57:49.999745Z",
     "iopub.status.idle": "2025-01-08T10:57:53.100905Z",
     "shell.execute_reply": "2025-01-08T10:57:53.100231Z",
     "shell.execute_reply.started": "2025-01-08T10:57:49.999957Z"
    },
    "tags": [],
    "trusted": true
   },
   "outputs": [],
   "source": [
    "import torch\n",
    "import torch.nn as nn\n",
    "\n",
    "class RotaryEncoding(nn.Module):\n",
    "    def __init__(self, n_head_dim, base=10_000):\n",
    "        super().__init__()\n",
    "        inv_freq = 1.0 / (base ** (torch.arange(0, n_head_dim, 2).float() / n_head_dim))\n",
    "        self.register_buffer(\"inv_freq\", inv_freq)\n",
    "\n",
    "    def forward(self, T, q, k):\n",
    "        positions = torch.arange(T, device=self.inv_freq.device)\n",
    "        freqs = positions.outer(self.inv_freq)\n",
    "        enc = torch.cat((freqs, freqs), dim=-1)\n",
    "        sin = torch.sin(enc)[None, None, :, :]\n",
    "        cos = torch.cos(enc)[None, None, :, :]\n",
    "        q = (q * cos) + (self._rotate_half(q) * sin)\n",
    "        k = (k * cos) + (self._rotate_half(k) * sin)\n",
    "        return q, k\n",
    "\n",
    "    def _rotate_half(self, x):\n",
    "        x1 = x[..., :x.shape[-1]//2]\n",
    "        x2 = x[..., x.shape[-1]//2:]\n",
    "        return torch.cat((-x2, x1), dim=-1)"
   ]
  },
  {
   "cell_type": "markdown",
   "metadata": {},
   "source": [
    "## Causal self-attention\n",
    "\n",
    "This module takes in a sequence of token-level embeddings (either from the previous layer or from the input), allows them to communicate with each other, and outputs new embeddings. The transformed embeddings are similar to the inputs, in that they exist in the same latent space, but each one now contains some context from tokens earlier in the sequence (Sanderson, 2024a). For example, if \"the blue chair\" was three tokens, then after passing through a self-attention layer the embeddings could have more nuanced meanings such as \"the\", \"blue (as an adjective)\", \"chair (which is blue)\".\n",
    "\n",
    "### Attention as information retrieval\n",
    "\n",
    "The attention mechanism works like a look-up table (LUT), where each token embedding can be used to \"look up\" contextual information. But unlike a regular LUT, this one looks up information from the entire sequence at once, weighting each earlier contribution by how much it is relevant to the current token. To do this, we first convert incoming embeddings to queries, keys and values ($q$, $k$, and $v$, per token):\n",
    "\n",
    "- Queries _ask_ \"Which earlier¹ tokens are relevant to me?\"\n",
    "- Keys _match_ \"My token is relevant to later¹ queries that are like me\"\n",
    "- Values _offer_ \"_If_ a later¹ query matches my key, here's the context I can provide...\" (Sanderson, 2024a).\n",
    "\n",
    "It's surprising that the value can be computed up-front, even before the queries have been compared to other tokens' keys! It's possible because the context that a token would provide is always the same, no matter what the query is — but the extent to which that value will be influence the output will depend on how closely the key matches the query.\n",
    "\n",
    "All of this happens in a different latent space than the token embeddings. In particular:\n",
    "- $Q$ and $K$ must share the same latent space, so that queries can be compared to keys. It need not be the same length as the token embeddings, and is usually much smaller.\n",
    "- $V$ has its own latent space. It need not be the same length as the token embeddings or $Q$ and $K$, although in practice it's usually the same length as $Q$ and $K$.\n",
    "\n",
    "### Attention heads\n",
    "\n",
    "Reading the previous section, you might think that each token can only provide one piece of contextual information to later tokens. We get around that by doing the same thing multiple times, and then combining the results. We call the logical Q-K-V operation an \"attention head\", and package them up into an internal batch dimension called \"head\" so they can be computed in parallel.\n",
    "\n",
    "<details>\n",
    "<summary style=\"opacity: 0.5\">Footnotes</summary>\n",
    "¹ This is for causal self-attention. For cross-attention, all other tokens are queried.\n",
    "</details>"
   ]
  },
  {
   "cell_type": "code",
   "execution_count": 2,
   "metadata": {
    "execution": {
     "iopub.execute_input": "2025-01-08T10:57:53.103030Z",
     "iopub.status.busy": "2025-01-08T10:57:53.102699Z",
     "iopub.status.idle": "2025-01-08T10:57:53.115096Z",
     "shell.execute_reply": "2025-01-08T10:57:53.113767Z",
     "shell.execute_reply.started": "2025-01-08T10:57:53.103004Z"
    },
    "id": "WAjtQm4NrUCB",
    "scrolled": true,
    "tags": [],
    "trusted": true
   },
   "outputs": [],
   "source": [
    "import torch\n",
    "import torch.nn as nn\n",
    "from torch.nn import functional as F\n",
    "\n",
    "class CausalSelfAttention(nn.Module):\n",
    "    def __init__(self, n_embd, n_head, n_head_dim, dropout):\n",
    "        super().__init__()\n",
    "        # attention dimensions:\n",
    "        # - key and query dimensions need to be the same\n",
    "        # - value dimension can be different, but in practice, we set it to the same thing\n",
    "        self.n_kq = n_head_dim\n",
    "        self.n_v = n_head_dim\n",
    "        self.n_kq_tot = n_head * self.n_kq\n",
    "        self.n_v_tot = n_head * self.n_v\n",
    "\n",
    "        # projections from embedding dim to total attention dim (split into q, k, v) and back\n",
    "        self.qkv = nn.Linear(n_embd, 2 * self.n_kq_tot + self.n_v_tot)\n",
    "        self.proj = nn.Linear(self.n_v_tot, n_embd)\n",
    "        self.dropout = nn.Dropout(dropout)\n",
    "        self.rotary_enc = RotaryEncoding(n_head_dim)\n",
    "\n",
    "        self.n_head = n_head\n",
    "        self.n_head_dim = n_head_dim\n",
    "        self.scale = self.n_kq ** -0.5\n",
    "\n",
    "    def _split_heads(self, tensor, batch_size, seq_len, n_head, n_head_dim):\n",
    "        \"\"\"Reshape tensor from (B, T, n_head * n_head_dim) into (B, n_head, T, n_head_dim)\"\"\"\n",
    "        return tensor.view(batch_size, seq_len, n_head, n_head_dim).transpose(1, 2)\n",
    "\n",
    "    def _merge_heads(self, tensor, batch_size, seq_len, n_head, n_head_dim):\n",
    "        \"\"\"Reshape tensor from (B, n_head, T, n_head_dim) into (B, T, n_head * n_head_dim)\"\"\"\n",
    "        return tensor.transpose(1, 2).contiguous().view(batch_size, seq_len, n_head * n_head_dim)\n",
    "\n",
    "    def forward(self, x):\n",
    "        B, T, C = x.shape\n",
    "\n",
    "        # project all qkv matrices at once, then split\n",
    "        qkv = self.qkv(x)\n",
    "        q, k, v = qkv.split([self.n_kq_tot, self.n_kq_tot, self.n_v_tot], dim=-1)\n",
    "\n",
    "        # reshape each of q, k, v from (B, T, n_head * n_head_dim) into (B, n_head, T, n_head_dim)\n",
    "        q = self._split_heads(q, B, T, self.n_head, self.n_kq)\n",
    "        k = self._split_heads(k, B, T, self.n_head, self.n_kq)\n",
    "        v = self._split_heads(v, B, T, self.n_head, self.n_v)\n",
    "\n",
    "        # Apply rotary encoding\n",
    "        q, k = self.rotary_enc(T, q, k)\n",
    "\n",
    "        # compute attention scores\n",
    "        # 1. combine q and k to make a square matrix for query-key matching (relevance LUT)\n",
    "        # 2. scale to 1/√n_kq, because otherwise the dot products grow with the number of dimensions\n",
    "        # 3. causal masking\n",
    "        # 4. scale relevance scores to add up to 1, so we can effectively add them up\n",
    "        # 5. get the weighted contributions of all value embeddings according to their relevance\n",
    "        att = (q @ k.transpose(-2, -1))\n",
    "        att = att * self.scale\n",
    "        att = att.masked_fill(torch.tril(torch.ones(T, T, device=att.device)) == 0, float('-inf'))\n",
    "        att = F.softmax(att, dim=-1)\n",
    "        att = self.dropout(att)\n",
    "        y = att @ v\n",
    "\n",
    "        # reshape output from (B, n_head, T, n_head_dim) into (B, T, n_head * n_head_dim)\n",
    "        y = self._merge_heads(y, B, T, self.n_head, self.n_v)\n",
    "        # project from attention embeddings back to token embeddings\n",
    "        y = self.proj(y)\n",
    "        return self.dropout(y)"
   ]
  },
  {
   "cell_type": "markdown",
   "metadata": {},
   "source": [
    "## MLP\n",
    "\n",
    "The multilayer perceptron (MLP) (aka feedforward layer) is an OG¹ deep learning pattern for nonlinear learned data transformations. That doesn't tell us much about what it does here but [3b1b has a great video on it](https://www.3blue1brown.com/lessons/mlp) (Sanderson, 2024). The structure of an MLP in a transformer does this:\n",
    "\n",
    "1. First, it projects the input to a larger dimension (arbitrarily 4x the embedding size)\n",
    "2. Apply GELU activation to introduce non-linearity, i.e. curves and bends that let the network learn more complex patterns, like a smooth switch.\n",
    "3. Project back down to the original embedding size, to be compatible with later layers.\n",
    "\n",
    "### What it does\n",
    "\n",
    "Exactly what is going on in the large matrices that project up and then back down is anyone's guess. But essentially, it takes each embedding from the attention block — which by now contains contextual information from earlier embeddings in the sequence — and it _does knowledge_ to it. That is, it looks at the embedding and says something about it that it thinks will be useful for later layers. Note the subtlety in that last sentence: \"something\" is another embedding (that has meaning) and \"will be useful\" are both things that the MLP learned during training.\n",
    "\n",
    "### What it doesn't\n",
    "\n",
    "The MLP operates on each token embedding individually: at this point, there is no communication between tokens; that happens in the `CausalSelfAttention` module. Also, it does not _add_ knowledge to the embedding; it outputs an entirely new embedding, which is later added to the residual stream in the `Block`.\n",
    "\n",
    "<details>\n",
    "<summary style=\"opacity: 0.5\">Footnotes</summary>\n",
    "¹ From 1958!\n",
    "</details>"
   ]
  },
  {
   "cell_type": "code",
   "execution_count": 3,
   "metadata": {
    "execution": {
     "iopub.execute_input": "2025-01-08T10:57:53.116218Z",
     "iopub.status.busy": "2025-01-08T10:57:53.115979Z",
     "iopub.status.idle": "2025-01-08T10:57:53.133576Z",
     "shell.execute_reply": "2025-01-08T10:57:53.132763Z",
     "shell.execute_reply.started": "2025-01-08T10:57:53.116194Z"
    },
    "id": "WAjtQm4NrUCB",
    "tags": [],
    "trusted": true
   },
   "outputs": [],
   "source": [
    "import torch.nn as nn\n",
    "\n",
    "class MLP(nn.Module):\n",
    "    def __init__(self, n_embd, n_ff, dropout):\n",
    "        super().__init__()\n",
    "        # All operations maintain the batch and sequence length dimensions,\n",
    "        # only transforming the embedding dimension.\n",
    "        self.net = nn.Sequential(\n",
    "            nn.Linear(n_embd, n_ff),\n",
    "            nn.GELU(),\n",
    "            nn.Linear(n_ff, n_embd),\n",
    "            nn.Dropout(dropout)\n",
    "        )\n",
    "\n",
    "    def forward(self, x):\n",
    "        return self.net(x)"
   ]
  },
  {
   "cell_type": "markdown",
   "metadata": {},
   "source": [
    "## Transformer block\n",
    "\n",
    "A transformer \"block\":\n",
    "1. Uses multi-headed attention to pass context between tokens (see _Causal self-attention_, above)\n",
    "2. Adds the attention output back to the original embeddings (residual connection)\n",
    "3. Adds the knowledge it has learned to the contextualized tokens with a simple feed-forward network (see _Multilayer perceptron_, above)\n",
    "4. Adds the MLP output back to its input (another residual connection)\n",
    "\n",
    "Layer normalization is applied before each sub-module to keep activations well-behaved during training.\n",
    "\n",
    "These blocks are then stacked as \"layers\"; see _GPT_ below.\n",
    "\n",
    "### Residual connection\n",
    "\n",
    "The residual stream has a couple of motivations. Numerically, it's needed so that the gradients can propagate all the way back through the network. Without it, earlier layers would struggle to learn anything. What's more interesting is that it allows some of the original information to flow past each layer — otherwise, the meaning of the token would be completely replaced by whatever the attention mechanism thought was useful, which may starve later layers of the information _they_ need."
   ]
  },
  {
   "cell_type": "code",
   "execution_count": 4,
   "metadata": {
    "execution": {
     "iopub.execute_input": "2025-01-08T10:57:53.134644Z",
     "iopub.status.busy": "2025-01-08T10:57:53.134357Z",
     "iopub.status.idle": "2025-01-08T10:57:53.147734Z",
     "shell.execute_reply": "2025-01-08T10:57:53.146864Z",
     "shell.execute_reply.started": "2025-01-08T10:57:53.134619Z"
    },
    "id": "WAjtQm4NrUCB",
    "tags": [],
    "trusted": true
   },
   "outputs": [],
   "source": [
    "import torch.nn as nn\n",
    "from torch.nn import functional as F\n",
    "\n",
    "class Block(nn.Module):\n",
    "    def __init__(self, n_embd, n_head, n_head_dim, n_ff, dropout):\n",
    "        super().__init__()\n",
    "        self.ln_1 = nn.LayerNorm(n_embd)\n",
    "        self.attn = CausalSelfAttention(n_embd, n_head, n_head_dim, dropout)\n",
    "        self.ln_2 = nn.LayerNorm(n_embd)\n",
    "        self.mlp = MLP(n_embd, n_ff, dropout)\n",
    "\n",
    "    def forward(self, x):\n",
    "        # x+ is the residual connection\n",
    "        x = x + self.attn(self.ln_1(x))\n",
    "        x = x + self.mlp(self.ln_2(x))\n",
    "        return x"
   ]
  },
  {
   "cell_type": "markdown",
   "metadata": {},
   "source": [
    "## Decoder-only transformer\n",
    "\n",
    "Here we tie together all the previous modules into \"the transformer\". Having discussed those other pieces already, this part is straightforward. The GPT module:\n",
    "\n",
    "1. Prepares the input embeddings:\n",
    "   - Converts token indices to the learned embeddings with a literal look-up table\n",
    "   - Adds additional embeddings for the position of each token within the sequence (elementwise addition, i.e. without any extra embedding dimensions)\n",
    "2. Pushes those embeddings through the transformer blocks (layers), one after the other\n",
    "3. Normalizes and projects the output embeddings to logits.\n",
    "\n",
    "### Interpretation of the logits\n",
    "\n",
    "During training, the \"labels\" $y$ are the same as the input sequence $x$ but shifted by one (so that $y_t=x_{t+1}$). The output logits have a length equal to the vocabulary size¹, so we can interpret them as meaning \"the likelihood that token $k$ comes next\". This isn't intrinsic to logits: we cause them to have this meaning when we define the loss function. However, the loss is not an intrinsic part of the model, and it's actually specified in the training code further down.\n",
    "\n",
    "With the logits defined like this, generation is simple: we could just pick the most likely token (corresponding to the logit with the highest value) and output that. That would produce fairly formulaic text, though, so we convert the logits to a probability distribution (using softmax) and sample from it.\n",
    "\n",
    "<details>\n",
    "<summary style=\"opacity: 0.5\">Footnotes</summary>\n",
    "¹ I.e. the number of distinct token values.\n",
    "</details>"
   ]
  },
  {
   "cell_type": "code",
   "execution_count": 5,
   "metadata": {
    "execution": {
     "iopub.execute_input": "2025-01-08T10:57:53.149426Z",
     "iopub.status.busy": "2025-01-08T10:57:53.149106Z",
     "iopub.status.idle": "2025-01-08T10:57:53.165599Z",
     "shell.execute_reply": "2025-01-08T10:57:53.164810Z",
     "shell.execute_reply.started": "2025-01-08T10:57:53.149384Z"
    },
    "id": "WAjtQm4NrUCB",
    "tags": [],
    "trusted": true
   },
   "outputs": [],
   "source": [
    "import torch\n",
    "import torch.nn as nn\n",
    "from torch.nn import functional as F\n",
    "\n",
    "class GPT(nn.Module):\n",
    "    def __init__(self, vocab_size, n_embd, n_head, n_head_dim, n_ff, n_layer, dropout=0.0, block_size=1024):\n",
    "        super().__init__()\n",
    "        self.block_size = block_size\n",
    "\n",
    "        self.transformer = nn.ModuleDict({\n",
    "            'wte': nn.Embedding(vocab_size, n_embd),\n",
    "            'wpe': nn.Embedding(block_size, n_embd),  # max sequence length\n",
    "            'blocks': nn.ModuleList([Block(n_embd, n_head, n_head_dim, n_ff, dropout) for _ in range(n_layer)]),\n",
    "            'ln_f': nn.LayerNorm(n_embd)\n",
    "        })\n",
    "        self.lm_head = nn.Linear(n_embd, vocab_size, bias=False)\n",
    "        # tie weights between embedding and LM head\n",
    "        self.transformer.wte.weight = self.lm_head.weight\n",
    "\n",
    "        # report number of parameters\n",
    "        print(\"number of parameters: %.2fM\" % (self.get_num_params()/1e6,))\n",
    "\n",
    "    def forward(self, idx):\n",
    "        B, T = idx.shape\n",
    "\n",
    "        # token + position embeddings\n",
    "        pos = torch.arange(T, device=idx.device)\n",
    "        x = self.transformer.wte(idx) + self.transformer.wpe(pos)\n",
    "\n",
    "        # transformer blocks\n",
    "        for block in self.transformer.blocks:\n",
    "            x = block(x)\n",
    "\n",
    "        # decoder head\n",
    "        x = self.transformer.ln_f(x)\n",
    "        logits = self.lm_head(x)\n",
    "\n",
    "        return logits\n",
    "\n",
    "    def get_num_params(self, non_embedding=True):\n",
    "        \"\"\"\n",
    "        Return the number of parameters in the model.\n",
    "        For non-embedding count (default), the position embeddings get subtracted.\n",
    "        The token embeddings would too, except due to the parameter sharing these\n",
    "        params are actually used as weights in the final layer, so we include them.\n",
    "        \"\"\"\n",
    "        n_params = sum(p.numel() for p in self.parameters())\n",
    "        if non_embedding:\n",
    "            n_params -= self.transformer.wpe.weight.numel()\n",
    "        return n_params\n",
    "\n",
    "    @torch.no_grad()\n",
    "    def generate(self, tok_idx, max_new_tokens, temperature=1.0):\n",
    "        # Initialize metrics arrays\n",
    "        # We'll align everything to input length + max_new_tokens\n",
    "        total_len = tok_idx.size(1) + max_new_tokens\n",
    "        device = tok_idx.device\n",
    "        entropies = torch.full((total_len,), float('nan'), device=device)\n",
    "        perplexities = torch.full((total_len,), float('nan'), device=device)\n",
    "\n",
    "        # Calculate perplexity for the prompt (except first token)\n",
    "        if tok_idx.size(1) > 1:\n",
    "            logits = self.forward(tok_idx)\n",
    "            targets = tok_idx[:, 1:]  # shifted right\n",
    "            losses = F.cross_entropy(logits[:, :-1].view(-1, logits.size(-1)),\n",
    "                                   targets.view(-1), reduction='none')\n",
    "            # Fill in perplexities for prompt tokens (starting at position 1)\n",
    "            perplexities[1:tok_idx.size(1)] = torch.exp(losses)\n",
    "\n",
    "        # Generate tokens and track metrics\n",
    "        curr_len = tok_idx.size(1)\n",
    "        for _ in range(max_new_tokens):\n",
    "            # Get context within block size\n",
    "            inputs = tok_idx[:, -self.block_size:]\n",
    "            logits = self.forward(inputs)\n",
    "\n",
    "            # Get next token logits and apply temperature\n",
    "            next_token_logits = logits[:, -1] / temperature\n",
    "\n",
    "            # Compute probabilities and entropy for next token\n",
    "            probs = F.softmax(next_token_logits, dim=-1)\n",
    "            entropy = -torch.sum(probs * torch.log(probs + 1e-10), dim=-1)\n",
    "            entropies[curr_len] = entropy\n",
    "\n",
    "            # Sample next token\n",
    "            idx_next = torch.multinomial(probs, num_samples=1)\n",
    "\n",
    "            # Calculate perplexity for the generated token\n",
    "            if curr_len > 0:\n",
    "                token_loss = F.cross_entropy(next_token_logits,\n",
    "                                           idx_next.view(-1), reduction='none')\n",
    "                perplexities[curr_len] = torch.exp(token_loss)\n",
    "\n",
    "            # Append to sequence and increment position\n",
    "            tok_idx = torch.cat([tok_idx, idx_next], dim=1)\n",
    "            curr_len += 1\n",
    "\n",
    "        return {\n",
    "            'tokens': tok_idx,\n",
    "            'perplexities': perplexities,\n",
    "            'entropies': entropies\n",
    "        }"
   ]
  },
  {
   "cell_type": "markdown",
   "metadata": {},
   "source": [
    "## Adjustable sequence length<span id=\"smidgin-len\"></span>\n",
    "\n",
    "It's interesting that most of the module constructor parameters say nothing about the sequence length. For example, the self-attention constructor is defined as:\n",
    "\n",
    "```python\n",
    "def __init__(self, n_embd, n_head, n_head_dim, dropout):\n",
    "    ...\n",
    "```\n",
    "\n",
    "The layer weight matrices are created in `__init__`, which means they are **broadcast** over the batch $B$ and sequence $T$ dimensions are determined at train/test time in the forward pass:\n",
    "\n",
    "```python\n",
    "def forward(self, x):\n",
    "    B, T, C = x.shape\n",
    "    ...\n",
    "```\n",
    "\n",
    "This is surprising to me: I knew the batche size could be varied after training, but this means the sequence length could also be varied. This is true for the whole network, except for the final `GPT` module, which learns positional encodings with an Embedding layer:\n",
    "\n",
    "```python\n",
    "self.transformer = nn.ModuleDict({\n",
    "    'wpe': nn.Embedding(block_size, n_embd),\n",
    "    ...\n",
    "```\n",
    "\n",
    "Since the encodings are learned, the number of embeddings must be set before training.\n",
    "\n",
    "I've heard the rotary positional encodings (RoPE) work a little better with longer sequences after training, and that hypersphere normalization helps even more (Loshchilov et. al, 2024), and now I think I understand why."
   ]
  },
  {
   "cell_type": "markdown",
   "metadata": {
    "id": "QLKUdJJJ1Kij"
   },
   "source": [
    "# Data\n",
    "\n",
    "We'll grab a small dataset. It's just one big block of text from which we take random substrings. These may overlap, but we aim to take roughly the entire corpus on each epoch.\n",
    "\n",
    "Of note: the \"labels\" $y$ are the same as the input values $x$, shifted by one, since we want to predict each next token.\n",
    "\n",
    "```python\n",
    "x = self.data[idx:idx + self.block_size]\n",
    "y = self.data[idx + 1:idx + self.block_size + 1]\n",
    "```"
   ]
  },
  {
   "cell_type": "code",
   "execution_count": null,
   "metadata": {
    "execution": {
     "iopub.execute_input": "2025-01-08T10:58:04.219346Z",
     "iopub.status.busy": "2025-01-08T10:58:04.219009Z",
     "iopub.status.idle": "2025-01-08T10:58:04.227676Z",
     "shell.execute_reply": "2025-01-08T10:58:04.227029Z",
     "shell.execute_reply.started": "2025-01-08T10:58:04.219296Z"
    },
    "id": "RbKfEB7QBuU-",
    "jupyter": {
     "source_hidden": true
    },
    "trusted": true
   },
   "outputs": [],
   "source": [
    "import math\n",
    "import torch\n",
    "from torch.utils.data import Dataset, RandomSampler\n",
    "\n",
    "class CharTokenizer:\n",
    "    def __init__(self, vocabulary: str):\n",
    "        \"\"\"\n",
    "        A simple character-level tokenizer.\n",
    "\n",
    "        Args:\n",
    "            vocabulary: string of unique characters to use as vocabulary\n",
    "        \"\"\"\n",
    "        vocabulary = set(vocabulary)\n",
    "        self.vocabulary = sorted(vocabulary)\n",
    "        self.vocab_size = len(self.vocabulary)\n",
    "        self.stoi = {ch:i for i,ch in enumerate(self.vocabulary)}\n",
    "        self.itos = {i:ch for i,ch in enumerate(self.vocabulary)}\n",
    "\n",
    "    def encode(self, string: str):\n",
    "        return [self.stoi[c] for c in string]\n",
    "\n",
    "    def decode(self, tokens):\n",
    "        return ''.join([self.itos.get(i, '') for i in tokens])\n",
    "\n",
    "class TextDataset(Dataset):\n",
    "    def __init__(self, data: torch.Tensor, block_size: int):\n",
    "        self.data = data\n",
    "        self.block_size = block_size\n",
    "\n",
    "    def __len__(self):\n",
    "        return len(self.data) - self.block_size - 1\n",
    "\n",
    "    def __getitem__(self, idx: int):\n",
    "        x = self.data[idx:idx + self.block_size]\n",
    "        y = self.data[idx + 1:idx + self.block_size + 1]\n",
    "        return x, y\n",
    "\n",
    "class OverlappingRandomSampler(RandomSampler):\n",
    "    def __init__(self, data_source, batch_size, seq_len, oversample=1):\n",
    "        super().__init__(data_source, replacement=True, num_samples=math.ceil(len(data_source) * oversample / batch_size / seq_len))"
   ]
  },
  {
   "cell_type": "code",
   "execution_count": null,
   "metadata": {
    "execution": {
     "iopub.execute_input": "2025-01-08T10:58:02.551102Z",
     "iopub.status.busy": "2025-01-08T10:58:02.550811Z",
     "iopub.status.idle": "2025-01-08T10:58:04.181973Z",
     "shell.execute_reply": "2025-01-08T10:58:04.181085Z",
     "shell.execute_reply.started": "2025-01-08T10:58:02.551075Z"
    },
    "id": "IOLkzyifA-4o",
    "jupyter": {
     "source_hidden": true
    },
    "outputId": "a0827ffc-b521-43cb-9f7f-2029478f2735",
    "tags": [],
    "trusted": true
   },
   "outputs": [],
   "source": [
    "import ftfy\n",
    "import requests\n",
    "import torch\n",
    "from torch.utils.data import DataLoader\n",
    "\n",
    "def download_the_scarlet_pimpernel():\n",
    "    url = 'https://www.gutenberg.org/cache/epub/60/pg60.txt'\n",
    "    response = requests.get(url)\n",
    "    response.raise_for_status()\n",
    "    text = response.text.replace('\\r\\n', '\\n')\n",
    "    text = text[text.find('\\nCHAPTER I.') : text.rfind('*** END OF THE PROJECT GUTENBERG EBOOK')].strip()\n",
    "    # Normalize text to avoid weird quotation marks etc.\n",
    "    text, explanation = ftfy.fix_and_explain(text)\n",
    "    metadata = {\n",
    "        'title': 'The Scarlet Pimpernel',\n",
    "        'url': url,\n",
    "        'fixes': explanation,\n",
    "        'total_chars': len(text),\n",
    "        'vocab_size': len(set(text)),\n",
    "    }\n",
    "    return text, metadata\n",
    "\n",
    "def tokenize_data(sources: list[tuple[str, dict]]):\n",
    "    text = ''.join([source[0] for source in sources])\n",
    "    # Create character-level encoder/decoder specific to this dataset.\n",
    "    tokenizer = CharTokenizer(text)\n",
    "    data = torch.tensor(tokenizer.encode(text), dtype=torch.long)\n",
    "    metadata = {\n",
    "        'vocabulary': tokenizer.vocabulary,\n",
    "        'vocab_size': tokenizer.vocab_size,\n",
    "        'total_chars': len(text),\n",
    "        'sources': [source[1] for source in sources],\n",
    "    }\n",
    "    return data, metadata\n",
    "\n",
    "def get_dataloader(data, data_config, model_config):\n",
    "    n = int(data_config['train_split'] * len(data))\n",
    "    train_dataset = TextDataset(data[:n], model_config['block_size'])\n",
    "    val_dataset = TextDataset(data[n:], model_config['block_size'])\n",
    "    train_loader = DataLoader(\n",
    "        train_dataset,\n",
    "        batch_size=data_config['batch_size'],\n",
    "        sampler=OverlappingRandomSampler(train_dataset, data_config['batch_size'], model_config['block_size'], oversample=2)\n",
    "    )\n",
    "    val_loader = DataLoader(\n",
    "        val_dataset,\n",
    "        batch_size=data_config['batch_size'],\n",
    "        sampler=OverlappingRandomSampler(val_dataset, data_config['batch_size'], model_config['block_size'])\n",
    "    )\n",
    "    return train_loader, val_loader"
   ]
  },
  {
   "cell_type": "markdown",
   "metadata": {
    "id": "1pao4ljq_8bd"
   },
   "source": [
    "# Training"
   ]
  },
  {
   "cell_type": "markdown",
   "metadata": {
    "id": "vnWX8f9ecCG9"
   },
   "source": [
    "## Training utils"
   ]
  },
  {
   "cell_type": "markdown",
   "metadata": {},
   "source": [
    "Optimizer: Use an Adam with weight decay (AdamW) for SGD.\n",
    "\n",
    "We only want to apply weight decay to weight matrices — not biases or scalar parameters. It so happens that we can distinguish these with a simple test:\n",
    "- Weight matrices (e.g. in Linear and Embedding layers) are at least rank 2\n",
    "- Bias and scale vectors are rank 1, and scalars¹ are rank 0.\n",
    "\n",
    "This may look fragile, but it's actually quite robust: it captures the fundamental difference between weight matrices and bias vectors without relying on naming conventions².\n",
    "\n",
    "<details>\n",
    "<summary style=\"opacity: 0.5\">Footnotes</summary>\n",
    "¹ In practice, we don't have any scalars.\n",
    "\n",
    "² If the architecture did have a low-rank tensor that we wanted to apply\n",
    "</details>"
   ]
  },
  {
   "cell_type": "code",
   "execution_count": null,
   "metadata": {
    "execution": {
     "iopub.execute_input": "2025-01-08T10:58:04.183852Z",
     "iopub.status.busy": "2025-01-08T10:58:04.183188Z",
     "iopub.status.idle": "2025-01-08T10:58:04.189697Z",
     "shell.execute_reply": "2025-01-08T10:58:04.188811Z",
     "shell.execute_reply.started": "2025-01-08T10:58:04.183812Z"
    },
    "id": "RbKfEB7QBuU-",
    "jupyter": {
     "source_hidden": true
    },
    "tags": [],
    "trusted": true
   },
   "outputs": [],
   "source": [
    "from torch.optim import AdamW\n",
    "\n",
    "def configure_optimizer(model, weight_decay, learning_rate, betas):\n",
    "    # apply weight decay to weight matrices (2+D tensors) but not to biases/scales (1-D tensors)\n",
    "    params = [p for n, p in model.named_parameters() if p.requires_grad]\n",
    "    decay_params = [p for p in params if p.dim() >= 2]\n",
    "    nodecay_params = [p for p in params if p.dim() < 2]\n",
    "\n",
    "    optim_groups = [\n",
    "        {'params': decay_params, 'weight_decay': weight_decay},\n",
    "        {'params': nodecay_params, 'weight_decay': 0.0}\n",
    "    ]\n",
    "\n",
    "    return AdamW(optim_groups, lr=learning_rate, betas=betas)"
   ]
  },
  {
   "cell_type": "markdown",
   "metadata": {},
   "source": [
    "Learning rate schedule: Linear warmup and then cosine decay, so that:\n",
    "- The parameters don't get jolted at the start by a high learning rate\n",
    "- Learning steps become finer as we approach the bottom of the basin in the loss landscape (although for simplicity we don't measure that, and we just assume that we'll be somewhere near the bottom of a basin near the final epoch)."
   ]
  },
  {
   "cell_type": "code",
   "execution_count": null,
   "metadata": {
    "execution": {
     "iopub.execute_input": "2025-01-08T10:58:04.190987Z",
     "iopub.status.busy": "2025-01-08T10:58:04.190744Z",
     "iopub.status.idle": "2025-01-08T10:58:04.202229Z",
     "shell.execute_reply": "2025-01-08T10:58:04.201496Z",
     "shell.execute_reply.started": "2025-01-08T10:58:04.190964Z"
    },
    "id": "RbKfEB7QBuU-",
    "jupyter": {
     "source_hidden": true
    },
    "tags": [],
    "trusted": true
   },
   "outputs": [],
   "source": [
    "from torch.optim.lr_scheduler import LinearLR, CosineAnnealingLR, SequentialLR\n",
    "\n",
    "def configure_scheduler(optimizer, warmup_steps, total_steps):\n",
    "    import warnings\n",
    "    warnings.filterwarnings(\"ignore\", message=r\".*The epoch parameter in.*scheduler.step\", category=UserWarning)\n",
    "\n",
    "    # Create schedulers for each phase\n",
    "    warmup_scheduler = LinearLR(\n",
    "        optimizer,\n",
    "        start_factor=0.01,\n",
    "        total_iters=warmup_steps\n",
    "    )\n",
    "    return warmup_scheduler\n",
    "\n",
    "    cosine_scheduler = CosineAnnealingLR(\n",
    "        optimizer,\n",
    "        T_max=total_steps - warmup_steps,\n",
    "        eta_min=0.1\n",
    "    )\n",
    "\n",
    "    # Combine them sequentially\n",
    "    return SequentialLR(\n",
    "        optimizer,\n",
    "        schedulers=[warmup_scheduler, cosine_scheduler],\n",
    "        milestones=[warmup_steps]\n",
    "    )"
   ]
  },
  {
   "cell_type": "markdown",
   "metadata": {},
   "source": [
    "Miscellany"
   ]
  },
  {
   "cell_type": "code",
   "execution_count": null,
   "metadata": {
    "execution": {
     "iopub.execute_input": "2025-01-08T10:58:04.203359Z",
     "iopub.status.busy": "2025-01-08T10:58:04.203146Z",
     "iopub.status.idle": "2025-01-08T10:58:04.217942Z",
     "shell.execute_reply": "2025-01-08T10:58:04.217273Z",
     "shell.execute_reply.started": "2025-01-08T10:58:04.203337Z"
    },
    "id": "RbKfEB7QBuU-",
    "jupyter": {
     "source_hidden": true
    },
    "trusted": true
   },
   "outputs": [],
   "source": [
    "from contextlib import contextmanager\n",
    "import math\n",
    "import torch.nn as nn\n",
    "\n",
    "@contextmanager\n",
    "def eval(model: nn.Module):\n",
    "    \"\"\"Sets the model to evaluation mode. Complements torch.no_grad\"\"\"\n",
    "    training_state = model.training\n",
    "    model.eval()\n",
    "    yield\n",
    "    model.train(training_state)\n",
    "\n",
    "def align(x: int, y: int) -> int:\n",
    "    \"\"\"Align x to the nearest multiple of y\"\"\"\n",
    "    return int(math.ceil(x / y) * y)"
   ]
  },
  {
   "cell_type": "markdown",
   "metadata": {},
   "source": [
    "# Compute\n",
    "\n",
    "Set up the things we'll need for remote compute. We do this before defining the pipelines so we can play with them as we go, notebook-style."
   ]
  },
  {
   "cell_type": "code",
   "execution_count": null,
   "metadata": {},
   "outputs": [
    {
     "ename": "TypeError",
     "evalue": "sequence item 0: expected str instance, int found",
     "output_type": "error",
     "traceback": [
      "\u001b[31m---------------------------------------------------------------------------\u001b[39m",
      "\u001b[31mTypeError\u001b[39m                                 Traceback (most recent call last)",
      "\u001b[36mCell\u001b[39m\u001b[36m \u001b[39m\u001b[32mIn[6]\u001b[39m\u001b[32m, line 8\u001b[39m\n\u001b[32m      4\u001b[39m \u001b[38;5;28;01mfrom\u001b[39;00m\u001b[38;5;250m \u001b[39m\u001b[34;01mdair\u001b[39;00m\u001b[34;01m.\u001b[39;00m\u001b[34;01mrequirements\u001b[39;00m\u001b[38;5;250m \u001b[39m\u001b[38;5;28;01mimport\u001b[39;00m freeze\n\u001b[32m      6\u001b[39m project_name = \u001b[33m'\u001b[39m\u001b[33mnanogpt-rope\u001b[39m\u001b[33m'\u001b[39m\n\u001b[32m      7\u001b[39m image = (\n\u001b[32m----> \u001b[39m\u001b[32m8\u001b[39m     modal.Image.debian_slim(python_version=\u001b[33;43m'\u001b[39;49m\u001b[33;43m.\u001b[39;49m\u001b[33;43m'\u001b[39;49m\u001b[43m.\u001b[49m\u001b[43mjoin\u001b[49m\u001b[43m(\u001b[49m\u001b[43msys\u001b[49m\u001b[43m.\u001b[49m\u001b[43mversion_info\u001b[49m\u001b[43m[\u001b[49m\u001b[43m:\u001b[49m\u001b[32;43m3\u001b[39;49m\u001b[43m]\u001b[49m\u001b[43m)\u001b[49m)\n\u001b[32m      9\u001b[39m     .pip_install(*freeze(\u001b[33m'\u001b[39m\u001b[33mtorch\u001b[39m\u001b[33m'\u001b[39m, \u001b[33m'\u001b[39m\u001b[33mtransformers\u001b[39m\u001b[33m'\u001b[39m, \u001b[33m'\u001b[39m\u001b[33mdatasets\u001b[39m\u001b[33m'\u001b[39m))\n\u001b[32m     10\u001b[39m     .add_local_python_source(\u001b[33m'\u001b[39m\u001b[33mdair\u001b[39m\u001b[33m'\u001b[39m)\n\u001b[32m     11\u001b[39m )\n\u001b[32m     12\u001b[39m volume = modal.Volume.from_name(project_name, create_if_missing=\u001b[38;5;28;01mTrue\u001b[39;00m)\n\u001b[32m     13\u001b[39m app = modal.App(\n\u001b[32m     14\u001b[39m     project_name,\n\u001b[32m     15\u001b[39m     image=image,\n\u001b[32m     16\u001b[39m     volumes={\u001b[33m'\u001b[39m\u001b[33m/data\u001b[39m\u001b[33m'\u001b[39m: volume},\n\u001b[32m     17\u001b[39m )\n",
      "\u001b[31mTypeError\u001b[39m: sequence item 0: expected str instance, int found"
     ]
    }
   ],
   "source": [
    "from pathlib import Path\n",
    "import modal\n",
    "\n",
    "from utils.requirements import freeze\n",
    "\n",
    "image = (\n",
    "    modal.Image.debian_slim()\n",
    "    .pip_install(*freeze('torch', 'requests'))\n",
    "    .add_local_python_source('utils')\n",
    ")\n",
    "\n",
    "project_name = 'nanogpt-rope'\n",
    "data_dir = Path('/data')\n",
    "volume = modal.Volume.from_name(project_name, create_if_missing=True)\n",
    "app = modal.App(\n",
    "    project_name,\n",
    "    image=image,\n",
    "    volumes={data_dir: volume},\n",
    ")"
   ]
  },
  {
   "cell_type": "code",
   "execution_count": null,
   "metadata": {},
   "outputs": [],
   "source": [
    "import json\n",
    "\n",
    "from utils.modal import run\n",
    "\n",
    "prepared_data_path = data_dir / 'processed'\n",
    "\n",
    "def save_data(data, metadata, path):\n",
    "    path.mkdir(parents=True, exist_ok=True)\n",
    "    torch.save(data, path / 'tokenized.pt')\n",
    "    with open(path / 'metadata.json', 'w') as f:\n",
    "        json.dump(metadata, f)\n",
    "\n",
    "@app.function()\n",
    "def prepare_data():\n",
    "    sources = [\n",
    "        download_the_scarlet_pimpernel(),\n",
    "    ]\n",
    "    data, metadata = tokenize_data(sources)\n",
    "    save_data(data, metadata, prepared_data_path)\n",
    "    return metadata\n",
    "\n",
    "async with run(app):\n",
    "    input_metadata = await prepare_data.remote.aio()\n",
    "    print(input_metadata)"
   ]
  },
  {
   "cell_type": "code",
   "execution_count": null,
   "metadata": {},
   "outputs": [],
   "source": [
    "def load_data(path):\n",
    "    data = torch.load(path / 'tokenized.pt')\n",
    "    with open(path / 'metadata.json', 'r') as f:\n",
    "        metadata = json.load(f)\n",
    "    return data, metadata\n",
    "\n",
    "def load_dataloaders(path, data_config, model_config):\n",
    "    data, metadata = load_data(path)\n",
    "    if torch.cuda.is_available():\n",
    "        data = data.cuda()\n",
    "    train_loader, val_loader = get_dataloader(data, data_config, model_config)\n",
    "    tokenizer = CharTokenizer(metadata['vocabulary'])\n",
    "    return train_loader, val_loader, tokenizer"
   ]
  },
  {
   "cell_type": "markdown",
   "metadata": {
    "id": "WX0gi9KR1ll4"
   },
   "source": [
    "## ... Actually training"
   ]
  },
  {
   "cell_type": "code",
   "execution_count": null,
   "metadata": {
    "execution": {
     "iopub.execute_input": "2025-01-08T10:58:04.229636Z",
     "iopub.status.busy": "2025-01-08T10:58:04.228795Z",
     "iopub.status.idle": "2025-01-08T10:58:04.605299Z",
     "shell.execute_reply": "2025-01-08T10:58:04.604413Z",
     "shell.execute_reply.started": "2025-01-08T10:58:04.229577Z"
    },
    "id": "YDJ-2iyGt7ve",
    "outputId": "0fd261f9-e2bb-400d-f219-2df7e1ad19a5",
    "trusted": true
   },
   "outputs": [
    {
     "name": "stdout",
     "output_type": "stream",
     "text": [
      "number of parameters: 0.26M\n"
     ]
    }
   ],
   "source": [
    "# Model hyperparameters\n",
    "model_config = {\n",
    "    'vocab_size': align(input_metadata['vocab_size'], 64),  # Discovered during data prep\n",
    "    'block_size': 512,  # maximum sequence length\n",
    "    'n_embd': 32,       # embedding dimension\n",
    "    'n_head': 8,        # number of attention heads\n",
    "    'n_head_dim': 8,    # qkv dimension per-head, can be any size, rule of thumb: n_embd // n_head.\n",
    "    'n_ff': 128,        # number of dimensions in the MLP, rule of thumb: 4 * n_embd\n",
    "    'n_layer': 15,      # number of transformer blocks\n",
    "    'dropout': 0.2,\n",
    "}\n",
    "criterion = nn.CrossEntropyLoss()\n",
    "\n",
    "# Training hyperparameters\n",
    "data_config = {\n",
    "    'batch_size': 8,\n",
    "    'oversample': 1,\n",
    "    'train_split': 0.8,\n",
    "}\n",
    "optimizer_config = {\n",
    "    'weight_decay': 1e-1,\n",
    "    'learning_rate': 0,  # Tuned by LR finder\n",
    "    'betas': (0.9, 0.95),\n",
    "}"
   ]
  },
  {
   "cell_type": "code",
   "execution_count": null,
   "metadata": {
    "execution": {
     "iopub.execute_input": "2025-01-08T10:58:04.607245Z",
     "iopub.status.busy": "2025-01-08T10:58:04.606863Z",
     "iopub.status.idle": "2025-01-08T10:58:18.274334Z",
     "shell.execute_reply": "2025-01-08T10:58:18.273593Z",
     "shell.execute_reply.started": "2025-01-08T10:58:04.607206Z"
    },
    "trusted": true
   },
   "outputs": [
    {
     "data": {
      "image/png": "[encoded data removed]",
      "text/plain": [
       "<Figure size 1000x300 with 1 Axes>"
      ]
     },
     "metadata": {},
     "output_type": "display_data"
    },
    {
     "data": {
      "application/vnd.jupyter.widget-view+json": {
       "model_id": "4c16ad40f44f493385ad1a01b259ae2f",
       "version_major": 2,
       "version_minor": 0
      },
      "text/plain": [
       "  0%|          | 0/60 [00:00<?, ?it/s]"
      ]
     },
     "metadata": {},
     "output_type": "display_data"
    },
    {
     "name": "stdout",
     "output_type": "stream",
     "text": [
      "Suggested Learning Rate: 4.13e-03\n"
     ]
    }
   ],
   "source": [
    "from utils import LRFinder\n",
    "\n",
    "@app.function(gpu='T4')\n",
    "def find_learning_rate():\n",
    "    model = GPT(**model_config)\n",
    "    if torch.cuda.is_available():\n",
    "        model = model.to('cuda')\n",
    "\n",
    "    optimizer = configure_optimizer(model, **optimizer_config)\n",
    "    lr_finder = LRFinder(model, criterion, optimizer=optimizer)\n",
    "\n",
    "    train_loader, _, _ = load_dataloaders(prepared_data_path, data_config, model_config)\n",
    "\n",
    "    suggested_lr = lr_finder.range_test(\n",
    "        train_loader,\n",
    "        start_lr=1e-7,\n",
    "        end_lr=1e+1,\n",
    "        num_zooms=6,  # Number of zoom levels\n",
    "        steps_per_zoom=10,\n",
    "        zoom_factor=0.5,  # Controls zoom window size\n",
    "        method='steepest',\n",
    "    )\n",
    "    return suggested_lr\n",
    "\n",
    "async with run(app):\n",
    "    suggested_lr = await find_learning_rate.remote.aio()\n",
    "\n",
    "print(f\"Suggested Learning Rate: {suggested_lr:.2e}\")"
   ]
  },
  {
   "cell_type": "code",
   "execution_count": null,
   "metadata": {
    "execution": {
     "iopub.execute_input": "2025-01-08T10:58:18.276358Z",
     "iopub.status.busy": "2025-01-08T10:58:18.275560Z",
     "iopub.status.idle": "2025-01-08T11:02:48.670789Z",
     "shell.execute_reply": "2025-01-08T11:02:48.669885Z",
     "shell.execute_reply.started": "2025-01-08T10:58:18.276317Z"
    },
    "id": "YDJ-2iyGt7ve",
    "outputId": "0fd261f9-e2bb-400d-f219-2df7e1ad19a5",
    "trusted": true
   },
   "outputs": [
    {
     "data": {
      "image/png": "[encoded data removed]",
      "text/plain": [
       "<Figure size 1000x300 with 1 Axes>"
      ]
     },
     "metadata": {},
     "output_type": "display_data"
    },
    {
     "data": {
      "application/vnd.jupyter.widget-view+json": {
       "model_id": "6a11d7b430924bfdbc7f8f2511e78636",
       "version_major": 2,
       "version_minor": 0
      },
      "text/plain": [
       "Epoch:   0%|          | 0/100 [00:00<?, ?it/s]"
      ]
     },
     "metadata": {},
     "output_type": "display_data"
    },
    {
     "data": {
      "application/vnd.jupyter.widget-view+json": {
       "model_id": "",
       "version_major": 2,
       "version_minor": 0
      },
      "text/plain": [
       "Step:   0%|          | 0/27 [00:00<?, ?it/s]"
      ]
     },
     "metadata": {},
     "output_type": "display_data"
    }
   ],
   "source": [
    "from utils import loss_chart\n",
    "\n",
    "epochs           = 100\n",
    "# epochs           = 20\n",
    "lr_warmup_epochs = 10\n",
    "\n",
    "# Optimizer\n",
    "\n",
    "optimizer = configure_optimizer(\n",
    "    model,\n",
    "    weight_decay=1e-1,\n",
    "    learning_rate=suggested_lr,\n",
    "    betas=(0.9, 0.99),\n",
    ")\n",
    "scheduler = configure_scheduler(optimizer, lr_warmup_epochs * len(train_loader), total_steps=epochs * len(train_loader))\n",
    "\n",
    "# Training loop\n",
    "\n",
    "plot = loss_chart(epochs)\n",
    "pb_epoch = tqdm(range(epochs), desc=\"Epoch\")\n",
    "pb_step = tqdm(total=len(train_loader) + len(val_loader), desc=\"Step\", leave=False)\n",
    "for _ in pb_epoch:\n",
    "    pb_step.reset()\n",
    "    for xb, yb in train_loader:\n",
    "        pb_step.update(1)\n",
    "        logits = model(xb)\n",
    "        loss = criterion(logits.view(-1, logits.size(-1)), yb.view(-1))\n",
    "        optimizer.zero_grad(set_to_none=True)\n",
    "        loss.backward()\n",
    "        optimizer.step()\n",
    "        scheduler.step()\n",
    "\n",
    "    total_val_loss = 0\n",
    "    with eval(model), torch.no_grad():\n",
    "        for xb, yb in val_loader:\n",
    "            pb_step.update(1)\n",
    "            logits = model(xb)\n",
    "            loss = criterion(logits.view(-1, logits.size(-1)), yb.view(-1))\n",
    "            total_val_loss += loss.item()\n",
    "\n",
    "    metrics = dict(\n",
    "        val_loss=total_val_loss / len(val_loader),\n",
    "        lr=optimizer.param_groups[0]['lr']\n",
    "    )\n",
    "    plot(metrics['val_loss'])\n",
    "    pb_epoch.set_postfix(metrics)\n",
    "pb_step.close()"
   ]
  },
  {
   "cell_type": "markdown",
   "metadata": {
    "id": "6Ig1r_FS_OwT"
   },
   "source": [
    "# Generate continuations"
   ]
  },
  {
   "cell_type": "code",
   "execution_count": null,
   "metadata": {
    "execution": {
     "iopub.execute_input": "2025-01-08T11:02:48.672114Z",
     "iopub.status.busy": "2025-01-08T11:02:48.671852Z",
     "iopub.status.idle": "2025-01-08T11:02:56.581146Z",
     "shell.execute_reply": "2025-01-08T11:02:56.580225Z",
     "shell.execute_reply.started": "2025-01-08T11:02:48.672088Z"
    },
    "id": "tTHxOrzbGCgT",
    "outputId": "c1804efc-c2dd-4a58-d119-3c56d354f722",
    "trusted": true
   },
   "outputs": [
    {
     "name": "stdout",
     "output_type": "stream",
     "text": [
      "Odd's fish m'dear, with the own to see o (etc.)\n"
     ]
    }
   ],
   "source": [
    "prompt = \"Odd's fish m'dear,\"\n",
    "context = torch.tensor([encode(prompt)], dtype=torch.long)\n",
    "if torch.cuda.is_available():\n",
    "    context = context.cuda()\n",
    "\n",
    "match model.generate(context, max_new_tokens=500, temperature=0.5):\n",
    "    case {'tokens': tokens, 'perplexities': perplexities, 'entropies': entropies}: pass\n",
    "generation = decode(tokens[0].cpu().tolist())\n",
    "print(generation[:40], '(etc.)')"
   ]
  },
  {
   "cell_type": "markdown",
   "metadata": {},
   "source": [
    "### Token metrics: Perplexity and entropy\n",
    "\n",
    "Let's visualize the generation along with some metrics:\n",
    "* **Entropy** is how diffuse the probability distribution is for the next token, i.e. the spread of probabilities before sampling. Can be thought of as how uncertain the model is about what to say next. This usually isn't calculated for prompt tokens.\n",
    "* **Perplexity** is how unlikely the next token is. Can be thought of as how surprised the model is by the presence of the token at this point in the sequence. This is usually calculated for prompt tokens, but can also be calculated for continuation tokens.\n",
    "\n",
    "```python\n",
    "# For entropy (uncertainty about next token):\n",
    "probs = F.softmax(next_token_logits, dim=-1)\n",
    "entropy = -torch.sum(probs * torch.log(probs + 1e-10), dim=-1)\n",
    "\n",
    "# For perplexity (surprise about actual token):\n",
    "token_loss = F.cross_entropy(next_token_logits, idx_next.view(-1), reduction='none')\n",
    "perplexities[curr_len] = torch.exp(token_loss)\n",
    "```\n",
    "\n",
    "Notably, _the entropy of continuation tokens is unaffected by temperature_, whereas the perplexity _is_ affected (because it's calculated after sampling).\n",
    "\n",
    "We should expect them to be correlated, because when the model is very certain (low entropy), it's more likely to sample a high-probability token (low perplexity), and vice-versa. But they can diverge in interesting ways: You could have high entropy but still sample a high-probability token by chance (high entropy, low perplexity), or You could have low entropy but sample an unlikely token due to temperature (low entropy, high perplexity)."
   ]
  },
  {
   "cell_type": "code",
   "execution_count": null,
   "metadata": {
    "execution": {
     "iopub.execute_input": "2025-01-08T11:02:56.582260Z",
     "iopub.status.busy": "2025-01-08T11:02:56.582025Z",
     "iopub.status.idle": "2025-01-08T11:02:56.666205Z",
     "shell.execute_reply": "2025-01-08T11:02:56.665504Z",
     "shell.execute_reply.started": "2025-01-08T11:02:56.582238Z"
    },
    "trusted": true
   },
   "outputs": [
    {
     "data": {
      "text/html": [
       "<svg xmlns=\"http://www.w3.org/2000/svg\" viewBox=\"0 0 842.0 356\"><style>text { white-space: pre; }</style><rect width=\"842\" height=\"356\" fill=\"#ffffff\" /><g transform=\"translate(10, 25)\"><text font-family=\"Courier\" font-size=\"14\" y=\"-2.8\" text-anchor=\"middle\" fill=\"#666666\"><tspan x=\"4.2\">O</tspan><tspan x=\"12.6\">d</tspan><tspan x=\"21\">d</tspan><tspan x=\"29.4\">'</tspan><tspan x=\"37.8\">s</tspan><tspan x=\"46.2\"> </tspan><tspan x=\"54.6\">f</tspan><tspan x=\"63\">i</tspan><tspan x=\"71.4\">s</tspan><tspan x=\"79.8\">h</tspan><tspan x=\"88.2\"> </tspan><tspan x=\"96.6\">m</tspan><tspan x=\"105\">'</tspan><tspan x=\"113.4\">d</tspan><tspan x=\"121.8\">e</tspan><tspan x=\"130.2\">a</tspan><tspan x=\"138.6\">r</tspan><tspan x=\"147\">,</tspan><tspan x=\"155.4\"> </tspan><tspan x=\"163.8\">w</tspan><tspan x=\"172.2\">i</tspan><tspan x=\"180.6\">t</tspan><tspan x=\"189\">h</tspan><tspan x=\"197.4\"> </tspan><tspan x=\"205.8\">t</tspan><tspan x=\"214.2\">h</tspan><tspan x=\"222.6\">e</tspan><tspan x=\"231\"> </tspan><tspan x=\"239.4\">o</tspan><tspan x=\"247.8\">w</tspan><tspan x=\"256.2\">n</tspan><tspan x=\"264.6\"> </tspan><tspan x=\"273\">t</tspan><tspan x=\"281.4\">o</tspan><tspan x=\"289.8\"> </tspan><tspan x=\"298.2\">s</tspan><tspan x=\"306.6\">e</tspan><tspan x=\"315\">e</tspan><tspan x=\"323.4\"> </tspan><tspan x=\"331.8\">o</tspan><tspan x=\"340.2\">f</tspan><tspan x=\"348.6\"> </tspan><tspan x=\"357\">b</tspan><tspan x=\"365.4\">e</tspan><tspan x=\"373.8\">c</tspan><tspan x=\"382.2\">o</tspan><tspan x=\"390.6\">m</tspan><tspan x=\"399\">e</tspan><tspan x=\"407.4\">n</tspan><tspan x=\"415.8\">t</tspan><tspan x=\"424.2\"> </tspan><tspan x=\"432.6\">a</tspan><tspan x=\"441\"> </tspan><tspan x=\"449.4\">r</tspan><tspan x=\"457.8\">e</tspan><tspan x=\"466.2\">a</tspan><tspan x=\"474.6\">d</tspan><tspan x=\"483\">e</tspan><tspan x=\"491.4\">.</tspan><tspan x=\"499.8\">\n",
       "</tspan><tspan x=\"508.2\">\n",
       "</tspan><tspan x=\"516.6\">\"</tspan><tspan x=\"525\">I</tspan><tspan x=\"533.4\">h</tspan><tspan x=\"541.8\">!</tspan><tspan x=\"550.2\"> </tspan><tspan x=\"558.6\">I</tspan><tspan x=\"567\"> </tspan><tspan x=\"575.4\">s</tspan><tspan x=\"583.8\">a</tspan><tspan x=\"592.2\">i</tspan><tspan x=\"600.6\">d</tspan><tspan x=\"609\"> </tspan><tspan x=\"617.4\">t</tspan><tspan x=\"625.8\">h</tspan><tspan x=\"634.2\">e</tspan><tspan x=\"642.6\"> </tspan><tspan x=\"651\">w</tspan><tspan x=\"659.4\">o</tspan><tspan x=\"667.8\">r</tspan></text></g><g transform=\"translate(10, 26)\"><clipPath id=\"clip-139769523119072\"><rect x=\"0\" y=\"-20\" width=\"672\" height=\"40\" /></clipPath><path d=\"M 12.6,7.5 S 16.8,5.9 21.0,5.9 S 25.2,-7.3 29.4,-7.3 S 33.6,19.2 37.8,19.2 S 42.0,19.1 46.2,19.1 S 50.4,5.8 54.6,5.8 S 58.8,12.9 63.0,12.9 S 67.2,12.1 71.4,12.1 S 75.6,14.9 79.8,14.9 S 84.0,9.6 88.2,9.6 S 92.4,2.0 96.6,2.0 S 100.8,-24.1 105.0,-24.1 S 109.2,2.0 113.4,2.0 S 117.6,15.7 121.8,15.7 S 126.0,2.0 130.2,2.0 S 134.4,17.4 138.6,17.4 S 142.8,9.4 147.0,9.4 S 151.2,20.0 155.4,20.0 S 159.6,13.7 163.8,13.7 S 168.0,16.1 172.2,16.1 S 176.4,19.9 180.6,19.9 S 184.8,20.0 189.0,20.0 S 193.2,20.0 197.4,20.0 S 201.6,14.8 205.8,14.8 S 210.0,19.9 214.2,19.9 S 218.4,19.4 222.6,19.4 S 226.8,19.3 231.0,19.3 S 235.2,4.5 239.4,4.5 S 243.6,12.1 247.8,12.1 S 252.0,19.9 256.2,19.9 S 260.4,19.9 264.6,19.9 S 268.8,13.7 273.0,13.7 S 277.2,15.3 281.4,15.3 S 285.6,20.0 289.8,20.0 S 294.0,12.3 298.2,12.3 S 302.4,16.6 306.6,16.6 S 310.8,19.2 315.0,19.2 S 319.2,12.2 323.4,12.2 S 327.6,13.2 331.8,13.2 S 336.0,20.0 340.2,20.0 S 344.4,20.0 348.6,20.0 S 352.8,1.0 357.0,1.0 S 361.2,17.4 365.4,17.4 S 369.6,18.2 373.8,18.2 S 378.0,18.8 382.2,18.8 S 386.4,19.1 390.6,19.1 S 394.8,19.8 399.0,19.8 S 403.2,19.5 407.4,19.5 S 411.6,20.0 415.8,20.0 S 420.0,19.5 424.2,19.5 S 428.4,12.8 432.6,12.8 S 436.8,18.3 441.0,18.3 S 445.2,2.7 449.4,2.7 S 453.6,16.2 457.8,16.2 S 462.0,18.2 466.2,18.2 S 470.4,17.8 474.6,17.8 S 478.8,18.8 483.0,18.8 S 487.2,5.8 491.4,5.8 S 495.6,19.6 499.8,19.6 S 504.0,20.0 508.2,20.0 S 512.4,17.3 516.6,17.3 S 520.8,14.9 525.0,14.9 S 529.2,11.9 533.4,11.9 S 537.6,16.4 541.8,16.4 S 546.0,19.6 550.2,19.6 S 554.4,18.4 558.6,18.4 S 562.8,19.9 567.0,19.9 S 571.2,14.0 575.4,14.0 S 579.6,15.5 583.8,15.5 S 588.0,19.9 592.2,19.9 S 596.4,20.0 600.6,20.0 S 604.8,19.5 609.0,19.5 S 613.2,11.6 617.4,11.6 S 621.6,18.9 625.8,18.9 S 630.0,18.7 634.2,18.7 S 638.4,19.8 642.6,19.8 S 646.8,2.4 651.0,2.4 S 655.2,17.2 659.4,17.2 S 663.6,19.8 667.8,19.8 S 672.0,17.9 676.2,17.9\" fill=\"none\" stroke=\"#ef4444\" stroke-width=\"1\" style=\"mix-blend-mode: multiply;\" clip-path=\"url(#clip-139769523119072)\" /><path d=\"M 155.4,19.9 S 159.6,10.6 163.8,10.6 S 168.0,15.5 172.2,15.5 S 176.4,19.3 180.6,19.3 S 184.8,20.0 189.0,20.0 S 193.2,19.9 197.4,19.9 S 201.6,12.5 205.8,12.5 S 210.0,19.4 214.2,19.4 S 218.4,18.0 222.6,18.0 S 226.8,17.4 231.0,17.4 S 235.2,8.5 239.4,8.5 S 243.6,11.8 247.8,11.8 S 252.0,19.4 256.2,19.4 S 260.4,19.2 264.6,19.2 S 268.8,11.1 273.0,11.1 S 277.2,16.7 281.4,16.7 S 285.6,19.9 289.8,19.9 S 294.0,8.2 298.2,8.2 S 302.4,12.7 306.6,12.7 S 310.8,16.8 315.0,16.8 S 319.2,16.8 323.4,16.8 S 327.6,9.5 331.8,9.5 S 336.0,19.8 340.2,19.8 S 344.4,20.0 348.6,20.0 S 352.8,11.9 357.0,11.9 S 361.2,14.6 365.4,14.6 S 369.6,14.0 373.8,14.0 S 378.0,16.3 382.2,16.3 S 386.4,16.7 390.6,16.7 S 394.8,18.8 399.0,18.8 S 403.2,18.4 407.4,18.4 S 411.6,19.8 415.8,19.8 S 420.0,17.8 424.2,17.8 S 428.4,11.9 432.6,11.9 S 436.8,15.0 441.0,15.0 S 445.2,9.3 449.4,9.3 S 453.6,15.3 457.8,15.3 S 462.0,14.5 466.2,14.5 S 470.4,14.4 474.6,14.4 S 478.8,16.4 483.0,16.4 S 487.2,12.7 491.4,12.7 S 495.6,18.7 499.8,18.7 S 504.0,19.7 508.2,19.7 S 512.4,13.1 516.6,13.1 S 520.8,11.8 525.0,11.8 S 529.2,11.6 533.4,11.6 S 537.6,16.0 541.8,16.0 S 546.0,18.6 550.2,18.6 S 554.4,13.6 558.6,13.6 S 562.8,19.6 567.0,19.6 S 571.2,10.1 575.4,10.1 S 579.6,13.6 583.8,13.6 S 588.0,19.5 592.2,19.5 S 596.4,20.0 600.6,20.0 S 604.8,18.4 609.0,18.4 S 613.2,11.1 617.4,11.1 S 621.6,17.7 625.8,17.7 S 630.0,17.1 634.2,17.1 S 638.4,19.2 642.6,19.2 S 646.8,8.0 651.0,8.0 S 655.2,15.0 659.4,15.0 S 663.6,19.1 667.8,19.1 S 672.0,14.1 676.2,14.1\" fill=\"none\" stroke=\"#3b82f6\" stroke-width=\"1\" style=\"mix-blend-mode: multiply;\" clip-path=\"url(#clip-139769523119072)\" /><path d=\"M4.0,20.0 L4.4,20.0 M12.4,20.0 L12.8,20.0 M20.8,20.0 L21.2,20.0 M29.2,20.0 L29.6,20.0 M37.6,20.0 L38.0,20.0 M46.0,20.0 L46.4,20.0 M54.4,20.0 L54.8,20.0 M62.8,20.0 L63.2,20.0 M71.2,20.0 L71.6,20.0 M79.6,20.0 L80.0,20.0 M88.0,20.0 L88.4,20.0 M96.4,20.0 L96.8,20.0 M104.8,20.0 L105.2,20.0 M113.2,20.0 L113.6,20.0 M121.6,20.0 L122.0,20.0 M130.0,20.0 L130.4,20.0 M138.4,20.0 L138.8,20.0 M146.8,20.0 L147.2,20.0 M155.2,20.0 L155.6,20.0 M163.6,20.0 L164.0,20.0 M172.0,20.0 L172.4,20.0 M180.4,20.0 L180.8,20.0 M188.8,20.0 L189.2,20.0 M197.2,20.0 L197.6,20.0 M205.6,20.0 L206.0,20.0 M214.0,20.0 L214.4,20.0 M222.4,20.0 L222.8,20.0 M230.8,20.0 L231.2,20.0 M239.2,20.0 L239.6,20.0 M247.6,20.0 L248.0,20.0 M256.0,20.0 L256.4,20.0 M264.4,20.0 L264.8,20.0 M272.8,20.0 L273.2,20.0 M281.2,20.0 L281.6,20.0 M289.6,20.0 L290.0,20.0 M298.0,20.0 L298.4,20.0 M306.4,20.0 L306.8,20.0 M314.8,20.0 L315.2,20.0 M323.2,20.0 L323.6,20.0 M331.6,20.0 L332.0,20.0 M340.0,20.0 L340.4,20.0 M348.4,20.0 L348.8,20.0 M356.8,20.0 L357.2,20.0 M365.2,20.0 L365.6,20.0 M373.6,20.0 L374.0,20.0 M382.0,20.0 L382.4,20.0 M390.4,20.0 L390.8,20.0 M398.8,20.0 L399.2,20.0 M407.2,20.0 L407.6,20.0 M415.6,20.0 L416.0,20.0 M424.0,20.0 L424.4,20.0 M432.4,20.0 L432.8,20.0 M440.8,20.0 L441.2,20.0 M449.2,20.0 L449.6,20.0 M457.6,20.0 L458.0,20.0 M466.0,20.0 L466.4,20.0 M474.4,20.0 L474.8,20.0 M482.8,20.0 L483.2,20.0 M491.2,20.0 L491.6,20.0 M499.6,20.0 L500.0,20.0 M508.0,20.0 L508.4,20.0 M516.4,20.0 L516.8,20.0 M524.8,20.0 L525.2,20.0 M533.2,20.0 L533.6,20.0 M541.6,20.0 L542.0,20.0 M550.0,20.0 L550.4,20.0 M558.4,20.0 L558.8,20.0 M566.8,20.0 L567.2,20.0 M575.2,20.0 L575.6,20.0 M583.6,20.0 L584.0,20.0 M592.0,20.0 L592.4,20.0 M600.4,20.0 L600.8,20.0 M608.8,20.0 L609.2,20.0 M617.2,20.0 L617.6,20.0 M625.6,20.0 L626.0,20.0 M634.0,20.0 L634.4,20.0 M642.4,20.0 L642.8,20.0 M650.8,20.0 L651.2,20.0 M659.2,20.0 L659.6,20.0 M667.6,20.0 L668.0,20.0\" fill=\"none\" stroke=\"#ddd\" stroke-width=\"3\" stroke-linecap=\"round\" style=\"mix-blend-mode: multiply;\" /></g><g transform=\"translate(692.0, 26)\"><path d=\"M   0,1.57462L1.02564,   0L2.05128,0.121232L3.07692,1.6013L4.10256,3.82874L5.12821,6.24868L6.15385,8.54164L7.17949,10.593L8.20513,12.364L9.23077,13.804L10.2564,14.854L11.2821,15.4983L12.3077,15.8016L13.3333,15.9008L14.359,15.965L15.3846,16.1449L16.4103,16.527L17.4359,17.1054L18.4615,17.7891L19.4872,18.4459L20.5128,18.9637L21.5385,19.2936L22.5641,19.4566L23.5897,19.5171L24.6154,19.5459L25.641,19.5905L26.6667,19.6645L27.6923,19.756L28.7179,19.8435L29.7436,19.9115L30.7692,19.9546L31.7949,19.975L32.8205,19.9763L33.8462,19.9586L34.8718,19.9188L35.8974,19.8543L36.9231,19.7692L37.9487,19.6794L38.9744,19.6094L  40,19.5828L  40,  20L0,  20\" fill=\"#ef4444\" opacity=\"0.05\" style=\"mix-blend-mode: multiply;\" /><path d=\"M   0,1.57462L1.02564,   0L2.05128,0.121232L3.07692,1.6013L4.10256,3.82874L5.12821,6.24868L6.15385,8.54164L7.17949,10.593L8.20513,12.364L9.23077,13.804L10.2564,14.854L11.2821,15.4983L12.3077,15.8016L13.3333,15.9008L14.359,15.965L15.3846,16.1449L16.4103,16.527L17.4359,17.1054L18.4615,17.7891L19.4872,18.4459L20.5128,18.9637L21.5385,19.2936L22.5641,19.4566L23.5897,19.5171L24.6154,19.5459L25.641,19.5905L26.6667,19.6645L27.6923,19.756L28.7179,19.8435L29.7436,19.9115L30.7692,19.9546L31.7949,19.975L32.8205,19.9763L33.8462,19.9586L34.8718,19.9188L35.8974,19.8543L36.9231,19.7692L37.9487,19.6794L38.9744,19.6094L  40,19.5828\" stroke=\"#ef4444\" stroke-width=\"1\" fill=\"none\" style=\"mix-blend-mode: multiply;\" /><path d=\"M   0,3.2465L1.02564,1.85873L2.05128,0.842769L3.07692,0.226855L4.10256,   0L5.12821,0.117148L6.15385,0.509396L7.17949,1.09662L8.20513,1.79965L9.23077,2.54968L10.2564,3.29362L11.2821,3.99542L12.3077,4.63419L13.3333,5.20061L14.359,5.69282L15.3846,6.11309L16.4103,6.46551L17.4359,6.75505L18.4615,6.98766L19.4872,7.17099L20.5128,7.31542L21.5385,7.43484L22.5641,7.54674L23.5897,7.67142L24.6154,7.83016L25.641,8.04264L26.6667,8.32405L27.6923,8.68261L28.7179,9.11823L29.7436,9.6227L30.7692,10.1815L31.7949,10.777L32.8205,11.3915L33.8462,12.0112L34.8718,12.6271L35.8974,13.2361L36.9231,13.8393L37.9487,14.4398L38.9744,15.0401L  40,15.6392L  40,  20L0,  20\" fill=\"#3b82f6\" opacity=\"0.05\" style=\"mix-blend-mode: multiply;\" /><path d=\"M   0,3.2465L1.02564,1.85873L2.05128,0.842769L3.07692,0.226855L4.10256,   0L5.12821,0.117148L6.15385,0.509396L7.17949,1.09662L8.20513,1.79965L9.23077,2.54968L10.2564,3.29362L11.2821,3.99542L12.3077,4.63419L13.3333,5.20061L14.359,5.69282L15.3846,6.11309L16.4103,6.46551L17.4359,6.75505L18.4615,6.98766L19.4872,7.17099L20.5128,7.31542L21.5385,7.43484L22.5641,7.54674L23.5897,7.67142L24.6154,7.83016L25.641,8.04264L26.6667,8.32405L27.6923,8.68261L28.7179,9.11823L29.7436,9.6227L30.7692,10.1815L31.7949,10.777L32.8205,11.3915L33.8462,12.0112L34.8718,12.6271L35.8974,13.2361L36.9231,13.8393L37.9487,14.4398L38.9744,15.0401L  40,15.6392\" stroke=\"#3b82f6\" stroke-width=\"1\" fill=\"none\" style=\"mix-blend-mode: multiply;\" /><line x1=\"0\" y1=\"20\" x2=\"40\" y2=\"20\" stroke=\"silver\" shape-rendering=\"crispEdges\" style=\"mix-blend-mode: multiply;\" /></g><g transform=\"translate(10, 73)\"><text font-family=\"Courier\" font-size=\"14\" y=\"-2.8\" text-anchor=\"middle\" fill=\"#666666\"><tspan x=\"4.2\">d</tspan><tspan x=\"12.6\">s</tspan><tspan x=\"21\"> </tspan><tspan x=\"29.4\">o</tspan><tspan x=\"37.8\">f</tspan><tspan x=\"46.2\"> </tspan><tspan x=\"54.6\">t</tspan><tspan x=\"63\">h</tspan><tspan x=\"71.4\">e</tspan><tspan x=\"79.8\"> </tspan><tspan x=\"88.2\">d</tspan><tspan x=\"96.6\">e</tspan><tspan x=\"105\">a</tspan><tspan x=\"113.4\">r</tspan><tspan x=\"121.8\"> </tspan><tspan x=\"130.2\">t</tspan><tspan x=\"138.6\">o</tspan><tspan x=\"147\"> </tspan><tspan x=\"155.4\">o</tspan><tspan x=\"163.8\">f</tspan><tspan x=\"172.2\"> </tspan><tspan x=\"180.6\">t</tspan><tspan x=\"189\">h</tspan><tspan x=\"197.4\">e</tspan><tspan x=\"205.8\"> </tspan><tspan x=\"214.2\">t</tspan><tspan x=\"222.6\">e</tspan><tspan x=\"231\">r</tspan><tspan x=\"239.4\">r</tspan><tspan x=\"247.8\">i</tspan><tspan x=\"256.2\">b</tspan><tspan x=\"264.6\">l</tspan><tspan x=\"273\">e</tspan><tspan x=\"281.4\"> </tspan><tspan x=\"289.8\">c</tspan><tspan x=\"298.2\">e</tspan><tspan x=\"306.6\">r</tspan><tspan x=\"315\">e</tspan><tspan x=\"323.4\">n</tspan><tspan x=\"331.8\">t</tspan><tspan x=\"340.2\"> </tspan><tspan x=\"348.6\">o</tspan><tspan x=\"357\">f</tspan><tspan x=\"365.4\"> </tspan><tspan x=\"373.8\">p</tspan><tspan x=\"382.2\">r</tspan><tspan x=\"390.6\">o</tspan><tspan x=\"399\">o</tspan><tspan x=\"407.4\">m</tspan><tspan x=\"415.8\">\n",
       "</tspan><tspan x=\"424.2\">o</tspan><tspan x=\"432.6\">f</tspan><tspan x=\"441\"> </tspan><tspan x=\"449.4\">t</tspan><tspan x=\"457.8\">h</tspan><tspan x=\"466.2\">e</tspan><tspan x=\"474.6\"> </tspan><tspan x=\"483\">m</tspan><tspan x=\"491.4\">o</tspan><tspan x=\"499.8\">s</tspan><tspan x=\"508.2\">t</tspan><tspan x=\"516.6\"> </tspan><tspan x=\"525\">n</tspan><tspan x=\"533.4\">o</tspan><tspan x=\"541.8\">t</tspan><tspan x=\"550.2\"> </tspan><tspan x=\"558.6\">e</tspan><tspan x=\"567\">n</tspan><tspan x=\"575.4\">t</tspan><tspan x=\"583.8\">e</tspan><tspan x=\"592.2\">s</tspan><tspan x=\"600.6\">s</tspan><tspan x=\"609\"> </tspan><tspan x=\"617.4\">m</tspan><tspan x=\"625.8\">o</tspan><tspan x=\"634.2\">r</tspan><tspan x=\"642.6\">e</tspan><tspan x=\"651\"> </tspan><tspan x=\"659.4\">i</tspan><tspan x=\"667.8\">s</tspan></text></g><g transform=\"translate(10, 74)\"><clipPath id=\"clip-139769523159104\"><rect x=\"0\" y=\"-20\" width=\"672\" height=\"40\" /></clipPath><path d=\"M -4.2,19.8 S 0.0,17.9 4.2,17.9 S 8.4,13.3 12.6,13.3 S 16.8,18.7 21.0,18.7 S 25.2,17.7 29.4,17.7 S 33.6,19.9 37.8,19.9 S 42.0,20.0 46.2,20.0 S 50.4,17.2 54.6,17.2 S 58.8,20.0 63.0,20.0 S 67.2,19.8 71.4,19.8 S 75.6,20.0 79.8,20.0 S 84.0,5.8 88.2,5.8 S 92.4,14.3 96.6,14.3 S 100.8,19.2 105.0,19.2 S 109.2,19.8 113.4,19.8 S 117.6,16.9 121.8,16.9 S 126.0,11.3 130.2,11.3 S 134.4,19.7 138.6,19.7 S 142.8,19.9 147.0,19.9 S 151.2,5.5 155.4,5.5 S 159.6,11.4 163.8,11.4 S 168.0,20.0 172.2,20.0 S 176.4,18.4 180.6,18.4 S 184.8,20.0 189.0,20.0 S 193.2,19.9 197.4,19.9 S 201.6,20.0 205.8,20.0 S 210.0,9.5 214.2,9.5 S 218.4,3.2 222.6,3.2 S 226.8,19.4 231.0,19.4 S 235.2,20.0 239.4,20.0 S 243.6,16.2 247.8,16.2 S 252.0,17.4 256.2,17.4 S 260.4,19.7 264.6,19.7 S 268.8,19.9 273.0,19.9 S 277.2,19.0 281.4,19.0 S 285.6,2.3 289.8,2.3 S 294.0,-0.0 298.2,-0.0 S 302.4,19.6 306.6,19.6 S 310.8,0.1 315.0,0.1 S 319.2,16.2 323.4,16.2 S 327.6,12.3 331.8,12.3 S 336.0,19.2 340.2,19.2 S 344.4,12.8 348.6,12.8 S 352.8,20.0 357.0,20.0 S 361.2,20.0 365.4,20.0 S 369.6,-5.1 373.8,-5.1 S 378.0,13.5 382.2,13.5 S 386.4,16.6 390.6,16.6 S 394.8,2.6 399.0,2.6 S 403.2,12.9 407.4,12.9 S 411.6,19.8 415.8,19.8 S 420.0,10.5 424.2,10.5 S 428.4,20.0 432.6,20.0 S 436.8,20.0 441.0,20.0 S 445.2,16.4 449.4,16.4 S 453.6,20.0 457.8,20.0 S 462.0,19.9 466.2,19.9 S 470.4,20.0 474.6,20.0 S 478.8,8.6 483.0,8.6 S 487.2,18.0 491.4,18.0 S 495.6,16.1 499.8,16.1 S 504.0,19.9 508.2,19.9 S 512.4,17.9 516.6,17.9 S 520.8,0.7 525.0,0.7 S 529.2,19.2 533.4,19.2 S 537.6,19.6 541.8,19.6 S 546.0,19.5 550.2,19.5 S 554.4,2.1 558.6,2.1 S 562.8,7.8 567.0,7.8 S 571.2,19.7 575.4,19.7 S 579.6,15.0 583.8,15.0 S 588.0,5.7 592.2,5.7 S 596.4,19.7 600.6,19.7 S 604.8,17.1 609.0,17.1 S 613.2,-0.3 617.4,-0.3 S 621.6,12.9 625.8,12.9 S 630.0,19.7 634.2,19.7 S 638.4,18.8 642.6,18.8 S 646.8,20.0 651.0,20.0 S 655.2,4.1 659.4,4.1 S 663.6,8.0 667.8,8.0 S 672.0,19.8 676.2,19.8\" fill=\"none\" stroke=\"#ef4444\" stroke-width=\"1\" style=\"mix-blend-mode: multiply;\" clip-path=\"url(#clip-139769523159104)\" /><path d=\"M -4.2,19.1 S 0.0,14.1 4.2,14.1 S 8.4,13.8 12.6,13.8 S 16.8,17.0 21.0,17.0 S 25.2,13.2 29.4,13.2 S 33.6,19.6 37.8,19.6 S 42.0,20.0 46.2,20.0 S 50.4,11.5 54.6,11.5 S 58.8,19.9 63.0,19.9 S 67.2,19.0 71.4,19.0 S 75.6,19.9 79.8,19.9 S 84.0,7.3 88.2,7.3 S 92.4,13.5 96.6,13.5 S 100.8,16.5 105.0,16.5 S 109.2,19.1 113.4,19.1 S 117.6,14.5 121.8,14.5 S 126.0,9.8 130.2,9.8 S 134.4,18.6 138.6,18.6 S 142.8,19.5 147.0,19.5 S 151.2,8.6 155.4,8.6 S 159.6,15.0 163.8,15.0 S 168.0,20.0 172.2,20.0 S 176.4,14.2 180.6,14.2 S 184.8,19.8 189.0,19.8 S 193.2,19.4 197.4,19.4 S 201.6,20.0 205.8,20.0 S 210.0,8.2 214.2,8.2 S 218.4,14.6 222.6,14.6 S 226.8,17.7 231.0,17.7 S 235.2,20.0 239.4,20.0 S 243.6,14.4 247.8,14.4 S 252.0,12.9 256.2,12.9 S 260.4,18.4 264.6,18.4 S 268.8,19.3 273.0,19.3 S 277.2,16.8 281.4,16.8 S 285.6,11.4 289.8,11.4 S 294.0,15.1 298.2,15.1 S 302.4,18.2 306.6,18.2 S 310.8,18.4 315.0,18.4 S 319.2,13.9 323.4,13.9 S 327.6,16.1 331.8,16.1 S 336.0,17.3 340.2,17.3 S 344.4,8.8 348.6,8.8 S 352.8,19.8 357.0,19.8 S 361.2,20.0 365.4,20.0 S 369.6,14.7 373.8,14.7 S 378.0,12.4 382.2,12.4 S 386.4,14.2 390.6,14.2 S 394.8,12.3 399.0,12.3 S 403.2,16.2 407.4,16.2 S 411.6,18.8 415.8,18.8 S 420.0,9.7 424.2,9.7 S 428.4,19.8 432.6,19.8 S 436.8,20.0 441.0,20.0 S 445.2,11.3 449.4,11.3 S 453.6,20.0 457.8,20.0 S 462.0,19.6 466.2,19.6 S 470.4,19.8 474.6,19.8 S 478.8,7.7 483.0,7.7 S 487.2,15.6 491.4,15.6 S 495.6,14.3 499.8,14.3 S 504.0,19.7 508.2,19.7 S 512.4,13.9 516.6,13.9 S 520.8,11.0 525.0,11.0 S 529.2,17.7 533.4,17.7 S 537.6,18.3 541.8,18.3 S 546.0,18.1 550.2,18.1 S 554.4,8.4 558.6,8.4 S 562.8,13.6 567.0,13.6 S 571.2,18.3 575.4,18.3 S 579.6,14.1 583.8,14.1 S 588.0,15.2 592.2,15.2 S 596.4,18.7 600.6,18.7 S 604.8,14.0 609.0,14.0 S 613.2,13.5 617.4,13.5 S 621.6,13.9 625.8,13.9 S 630.0,18.5 634.2,18.5 S 638.4,16.3 642.6,16.3 S 646.8,19.7 651.0,19.7 S 655.2,9.6 659.4,9.6 S 663.6,17.1 667.8,17.1 S 672.0,19.2 676.2,19.2\" fill=\"none\" stroke=\"#3b82f6\" stroke-width=\"1\" style=\"mix-blend-mode: multiply;\" clip-path=\"url(#clip-139769523159104)\" /><path d=\"M4.0,20.0 L4.4,20.0 M12.4,20.0 L12.8,20.0 M20.8,20.0 L21.2,20.0 M29.2,20.0 L29.6,20.0 M37.6,20.0 L38.0,20.0 M46.0,20.0 L46.4,20.0 M54.4,20.0 L54.8,20.0 M62.8,20.0 L63.2,20.0 M71.2,20.0 L71.6,20.0 M79.6,20.0 L80.0,20.0 M88.0,20.0 L88.4,20.0 M96.4,20.0 L96.8,20.0 M104.8,20.0 L105.2,20.0 M113.2,20.0 L113.6,20.0 M121.6,20.0 L122.0,20.0 M130.0,20.0 L130.4,20.0 M138.4,20.0 L138.8,20.0 M146.8,20.0 L147.2,20.0 M155.2,20.0 L155.6,20.0 M163.6,20.0 L164.0,20.0 M172.0,20.0 L172.4,20.0 M180.4,20.0 L180.8,20.0 M188.8,20.0 L189.2,20.0 M197.2,20.0 L197.6,20.0 M205.6,20.0 L206.0,20.0 M214.0,20.0 L214.4,20.0 M222.4,20.0 L222.8,20.0 M230.8,20.0 L231.2,20.0 M239.2,20.0 L239.6,20.0 M247.6,20.0 L248.0,20.0 M256.0,20.0 L256.4,20.0 M264.4,20.0 L264.8,20.0 M272.8,20.0 L273.2,20.0 M281.2,20.0 L281.6,20.0 M289.6,20.0 L290.0,20.0 M298.0,20.0 L298.4,20.0 M306.4,20.0 L306.8,20.0 M314.8,20.0 L315.2,20.0 M323.2,20.0 L323.6,20.0 M331.6,20.0 L332.0,20.0 M340.0,20.0 L340.4,20.0 M348.4,20.0 L348.8,20.0 M356.8,20.0 L357.2,20.0 M365.2,20.0 L365.6,20.0 M373.6,20.0 L374.0,20.0 M382.0,20.0 L382.4,20.0 M390.4,20.0 L390.8,20.0 M398.8,20.0 L399.2,20.0 M407.2,20.0 L407.6,20.0 M415.6,20.0 L416.0,20.0 M424.0,20.0 L424.4,20.0 M432.4,20.0 L432.8,20.0 M440.8,20.0 L441.2,20.0 M449.2,20.0 L449.6,20.0 M457.6,20.0 L458.0,20.0 M466.0,20.0 L466.4,20.0 M474.4,20.0 L474.8,20.0 M482.8,20.0 L483.2,20.0 M491.2,20.0 L491.6,20.0 M499.6,20.0 L500.0,20.0 M508.0,20.0 L508.4,20.0 M516.4,20.0 L516.8,20.0 M524.8,20.0 L525.2,20.0 M533.2,20.0 L533.6,20.0 M541.6,20.0 L542.0,20.0 M550.0,20.0 L550.4,20.0 M558.4,20.0 L558.8,20.0 M566.8,20.0 L567.2,20.0 M575.2,20.0 L575.6,20.0 M583.6,20.0 L584.0,20.0 M592.0,20.0 L592.4,20.0 M600.4,20.0 L600.8,20.0 M608.8,20.0 L609.2,20.0 M617.2,20.0 L617.6,20.0 M625.6,20.0 L626.0,20.0 M634.0,20.0 L634.4,20.0 M642.4,20.0 L642.8,20.0 M650.8,20.0 L651.2,20.0 M659.2,20.0 L659.6,20.0 M667.6,20.0 L668.0,20.0\" fill=\"none\" stroke=\"#ddd\" stroke-width=\"3\" stroke-linecap=\"round\" style=\"mix-blend-mode: multiply;\" /></g><g transform=\"translate(692.0, 74)\"><path d=\"M   0,0.855159L1.02564,0.0152306L2.05128,   0L3.07692,0.747674L4.10256,2.09681L5.12821,3.82777L6.15385,5.71179L7.17949,7.55347L8.20513,9.21707L9.23077,10.6335L10.2564,11.7909L11.2821,12.7162L12.3077,13.4543L13.3333,14.0507L14.359,14.5418L15.3846,14.9507L16.4103,15.2893L17.4359,15.5622L18.4615,15.7713L19.4872,15.9191L20.5128,16.0102L21.5385,16.0521L22.5641,16.0551L23.5897,16.0324L24.6154,15.9996L25.641,15.9748L26.6667,15.9773L27.6923,16.0258L28.7179,16.1361L29.7436,16.3176L30.7692,16.5711L31.7949,16.8875L32.8205,17.2485L33.8462,17.6294L34.8718,18.0042L35.8974,18.3502L36.9231,18.652L37.9487,18.9034L38.9744,19.1067L  40,19.2699L  40,  20L0,  20\" fill=\"#ef4444\" opacity=\"0.05\" style=\"mix-blend-mode: multiply;\" /><path d=\"M   0,0.855159L1.02564,0.0152306L2.05128,   0L3.07692,0.747674L4.10256,2.09681L5.12821,3.82777L6.15385,5.71179L7.17949,7.55347L8.20513,9.21707L9.23077,10.6335L10.2564,11.7909L11.2821,12.7162L12.3077,13.4543L13.3333,14.0507L14.359,14.5418L15.3846,14.9507L16.4103,15.2893L17.4359,15.5622L18.4615,15.7713L19.4872,15.9191L20.5128,16.0102L21.5385,16.0521L22.5641,16.0551L23.5897,16.0324L24.6154,15.9996L25.641,15.9748L26.6667,15.9773L27.6923,16.0258L28.7179,16.1361L29.7436,16.3176L30.7692,16.5711L31.7949,16.8875L32.8205,17.2485L33.8462,17.6294L34.8718,18.0042L35.8974,18.3502L36.9231,18.652L37.9487,18.9034L38.9744,19.1067L  40,19.2699\" stroke=\"#ef4444\" stroke-width=\"1\" fill=\"none\" style=\"mix-blend-mode: multiply;\" /><path d=\"M   0,2.57178L1.02564,1.18775L2.05128,0.322655L3.07692,   0L4.10256,0.179668L5.12821,0.767427L6.15385,1.63237L7.17949,2.62791L8.20513,3.61209L9.23077,4.46443L10.2564,5.09799L11.2821,5.46665L12.3077,5.56786L13.3333,5.44111L14.359,5.16173L15.3846,4.82989L16.4103,4.55537L17.4359,4.4399L18.4615,4.56023L19.4872,4.95547L20.5128,5.62187L21.5385,6.516L22.5641,7.56548L23.5897,8.68405L24.6154,9.78707L25.641,10.8041L26.6667,11.6863L27.6923,12.4086L28.7179,12.9682L29.7436,13.38L30.7692,13.672L31.7949,13.8807L32.8205,14.0465L33.8462,14.2097L34.8718,14.4062L35.8974,14.6635L36.9231,14.9979L37.9487,15.4124L38.9744,15.8971L  40,16.4317L  40,  20L0,  20\" fill=\"#3b82f6\" opacity=\"0.05\" style=\"mix-blend-mode: multiply;\" /><path d=\"M   0,2.57178L1.02564,1.18775L2.05128,0.322655L3.07692,   0L4.10256,0.179668L5.12821,0.767427L6.15385,1.63237L7.17949,2.62791L8.20513,3.61209L9.23077,4.46443L10.2564,5.09799L11.2821,5.46665L12.3077,5.56786L13.3333,5.44111L14.359,5.16173L15.3846,4.82989L16.4103,4.55537L17.4359,4.4399L18.4615,4.56023L19.4872,4.95547L20.5128,5.62187L21.5385,6.516L22.5641,7.56548L23.5897,8.68405L24.6154,9.78707L25.641,10.8041L26.6667,11.6863L27.6923,12.4086L28.7179,12.9682L29.7436,13.38L30.7692,13.672L31.7949,13.8807L32.8205,14.0465L33.8462,14.2097L34.8718,14.4062L35.8974,14.6635L36.9231,14.9979L37.9487,15.4124L38.9744,15.8971L  40,16.4317\" stroke=\"#3b82f6\" stroke-width=\"1\" fill=\"none\" style=\"mix-blend-mode: multiply;\" /><line x1=\"0\" y1=\"20\" x2=\"40\" y2=\"20\" stroke=\"silver\" shape-rendering=\"crispEdges\" style=\"mix-blend-mode: multiply;\" /></g><g transform=\"translate(10, 121)\"><text font-family=\"Courier\" font-size=\"14\" y=\"-2.8\" text-anchor=\"middle\" fill=\"#666666\"><tspan x=\"4.2\"> </tspan><tspan x=\"12.6\">r</tspan><tspan x=\"21\">i</tspan><tspan x=\"29.4\">v</tspan><tspan x=\"37.8\">e</tspan><tspan x=\"46.2\">l</tspan><tspan x=\"54.6\"> </tspan><tspan x=\"63\">t</tspan><tspan x=\"71.4\">o</tspan><tspan x=\"79.8\"> </tspan><tspan x=\"88.2\">t</tspan><tspan x=\"96.6\">h</tspan><tspan x=\"105\">e</tspan><tspan x=\"113.4\"> </tspan><tspan x=\"121.8\">m</tspan><tspan x=\"130.2\">a</tspan><tspan x=\"138.6\">n</tspan><tspan x=\"147\"> </tspan><tspan x=\"155.4\">j</tspan><tspan x=\"163.8\">o</tspan><tspan x=\"172.2\">t</tspan><tspan x=\"180.6\"> </tspan><tspan x=\"189\">s</tspan><tspan x=\"197.4\">h</tspan><tspan x=\"205.8\">e</tspan><tspan x=\"214.2\"> </tspan><tspan x=\"222.6\">h</tspan><tspan x=\"231\">a</tspan><tspan x=\"239.4\">d</tspan><tspan x=\"247.8\"> </tspan><tspan x=\"256.2\">s</tspan><tspan x=\"264.6\">p</tspan><tspan x=\"273\">o</tspan><tspan x=\"281.4\">o</tspan><tspan x=\"289.8\">k</tspan><tspan x=\"298.2\"> </tspan><tspan x=\"306.6\">a</tspan><tspan x=\"315\">\n",
       "</tspan><tspan x=\"323.4\">b</tspan><tspan x=\"331.8\">e</tspan><tspan x=\"340.2\">r</tspan><tspan x=\"348.6\">f</tspan><tspan x=\"357\">o</tspan><tspan x=\"365.4\">r</tspan><tspan x=\"373.8\">t</tspan><tspan x=\"382.2\"> </tspan><tspan x=\"390.6\">t</tspan><tspan x=\"399\">h</tspan><tspan x=\"407.4\">e</tspan><tspan x=\"415.8\"> </tspan><tspan x=\"424.2\">c</tspan><tspan x=\"432.6\">o</tspan><tspan x=\"441\">m</tspan><tspan x=\"449.4\">p</tspan><tspan x=\"457.8\">a</tspan><tspan x=\"466.2\">n</tspan><tspan x=\"474.6\">d</tspan><tspan x=\"483\"> </tspan><tspan x=\"491.4\">o</tspan><tspan x=\"499.8\">f</tspan><tspan x=\"508.2\"> </tspan><tspan x=\"516.6\">t</tspan><tspan x=\"525\">h</tspan><tspan x=\"533.4\">e</tspan><tspan x=\"541.8\"> </tspan><tspan x=\"550.2\">w</tspan><tspan x=\"558.6\">o</tspan><tspan x=\"567\">u</tspan><tspan x=\"575.4\">l</tspan><tspan x=\"583.8\">d</tspan><tspan x=\"592.2\"> </tspan><tspan x=\"600.6\">r</tspan><tspan x=\"609\">e</tspan><tspan x=\"617.4\">a</tspan><tspan x=\"625.8\">s</tspan><tspan x=\"634.2\">i</tspan><tspan x=\"642.6\">n</tspan><tspan x=\"651\">g</tspan><tspan x=\"659.4\"> </tspan><tspan x=\"667.8\">t</tspan></text></g><g transform=\"translate(10, 122)\"><clipPath id=\"clip-139769523166944\"><rect x=\"0\" y=\"-20\" width=\"672\" height=\"40\" /></clipPath><path d=\"M -4.2,8.0 S 0.0,19.8 4.2,19.8 S 8.4,-2.0 12.6,-2.0 S 16.8,8.9 21.0,8.9 S 25.2,9.6 29.4,9.6 S 33.6,19.9 37.8,19.9 S 42.0,14.3 46.2,14.3 S 50.4,16.7 54.6,16.7 S 58.8,10.3 63.0,10.3 S 67.2,16.8 71.4,16.8 S 75.6,20.0 79.8,20.0 S 84.0,14.2 88.2,14.2 S 92.4,19.8 96.6,19.8 S 100.8,19.8 105.0,19.8 S 109.2,20.0 113.4,20.0 S 117.6,4.4 121.8,4.4 S 126.0,15.9 130.2,15.9 S 134.4,18.9 138.6,18.9 S 142.8,16.0 147.0,16.0 S 151.2,-16.6 155.4,-16.6 S 159.6,14.1 163.8,14.1 S 168.0,13.1 172.2,13.1 S 176.4,8.9 180.6,8.9 S 184.8,1.5 189.0,1.5 S 193.2,16.0 197.4,16.0 S 201.6,19.3 205.8,19.3 S 210.0,20.0 214.2,20.0 S 218.4,13.9 222.6,13.9 S 226.8,17.8 231.0,17.8 S 235.2,19.9 239.4,19.9 S 243.6,20.0 247.8,20.0 S 252.0,14.0 256.2,14.0 S 260.4,4.2 264.6,4.2 S 268.8,15.4 273.0,15.4 S 277.2,17.7 281.4,17.7 S 285.6,18.7 289.8,18.7 S 294.0,13.5 298.2,13.5 S 302.4,13.5 306.6,13.5 S 310.8,19.7 315.0,19.7 S 319.2,11.0 323.4,11.0 S 327.6,15.8 331.8,15.8 S 336.0,13.0 340.2,13.0 S 344.4,16.0 348.6,16.0 S 352.8,19.2 357.0,19.2 S 361.2,14.7 365.4,14.7 S 369.6,16.7 373.8,16.7 S 378.0,18.7 382.2,18.7 S 386.4,14.1 390.6,14.1 S 394.8,17.2 399.0,17.2 S 403.2,19.9 407.4,19.9 S 411.6,20.0 415.8,20.0 S 420.0,13.3 424.2,13.3 S 428.4,16.9 432.6,16.9 S 436.8,13.7 441.0,13.7 S 445.2,16.5 449.4,16.5 S 453.6,19.1 457.8,19.1 S 462.0,19.8 466.2,19.8 S 470.4,11.2 474.6,11.2 S 478.8,16.7 483.0,16.7 S 487.2,18.0 491.4,18.0 S 495.6,19.6 499.8,19.6 S 504.0,20.0 508.2,20.0 S 512.4,18.5 516.6,18.5 S 520.8,20.0 525.0,20.0 S 529.2,20.0 533.4,20.0 S 537.6,19.9 541.8,19.9 S 546.0,9.4 550.2,9.4 S 554.4,17.5 558.6,17.5 S 562.8,19.5 567.0,19.5 S 571.2,19.3 575.4,19.3 S 579.6,20.0 583.8,20.0 S 588.0,20.0 592.2,20.0 S 596.4,4.6 600.6,4.6 S 604.8,17.5 609.0,17.5 S 613.2,16.5 617.4,16.5 S 621.6,9.8 625.8,9.8 S 630.0,14.0 634.2,14.0 S 638.4,19.0 642.6,19.0 S 646.8,20.0 651.0,20.0 S 655.2,19.9 659.4,19.9 S 663.6,14.8 667.8,14.8 S 672.0,18.2 676.2,18.2\" fill=\"none\" stroke=\"#ef4444\" stroke-width=\"1\" style=\"mix-blend-mode: multiply;\" clip-path=\"url(#clip-139769523166944)\" /><path d=\"M -4.2,17.1 S 0.0,19.2 4.2,19.2 S 8.4,8.4 12.6,8.4 S 16.8,14.7 21.0,14.7 S 25.2,10.6 29.4,10.6 S 33.6,19.4 37.8,19.4 S 42.0,14.7 46.2,14.7 S 50.4,12.9 54.6,12.9 S 58.8,10.2 63.0,10.2 S 67.2,16.8 71.4,16.8 S 75.6,19.8 79.8,19.8 S 84.0,9.0 88.2,9.0 S 92.4,19.3 96.6,19.3 S 100.8,19.1 105.0,19.1 S 109.2,20.0 113.4,20.0 S 117.6,7.9 121.8,7.9 S 126.0,15.1 130.2,15.1 S 134.4,16.2 138.6,16.2 S 142.8,13.2 147.0,13.2 S 151.2,8.6 155.4,8.6 S 159.6,12.4 163.8,12.4 S 168.0,10.2 172.2,10.2 S 176.4,16.7 180.6,16.7 S 184.8,11.7 189.0,11.7 S 193.2,12.3 197.4,12.3 S 201.6,17.5 205.8,17.5 S 210.0,20.0 214.2,20.0 S 218.4,10.6 222.6,10.6 S 226.8,15.4 231.0,15.4 S 235.2,19.5 239.4,19.5 S 243.6,20.0 247.8,20.0 S 252.0,9.6 256.2,9.6 S 260.4,12.7 264.6,12.7 S 268.8,15.5 273.0,15.5 S 277.2,14.8 281.4,14.8 S 285.6,16.2 289.8,16.2 S 294.0,13.5 298.2,13.5 S 302.4,11.1 306.6,11.1 S 310.8,18.4 315.0,18.4 S 319.2,9.9 323.4,9.9 S 327.6,13.3 331.8,13.3 S 336.0,11.7 340.2,11.7 S 344.4,11.0 348.6,11.0 S 352.8,16.9 357.0,16.9 S 361.2,13.7 365.4,13.7 S 369.6,13.7 373.8,13.7 S 378.0,15.9 382.2,15.9 S 386.4,12.6 390.6,12.6 S 394.8,16.8 399.0,16.8 S 403.2,19.4 407.4,19.4 S 411.6,19.7 415.8,19.7 S 420.0,8.9 424.2,8.9 S 428.4,14.8 432.6,14.8 S 436.8,14.0 441.0,14.0 S 445.2,15.3 449.4,15.3 S 453.6,17.0 457.8,17.0 S 462.0,18.9 466.2,18.9 S 470.4,14.8 474.6,14.8 S 478.8,14.6 483.0,14.6 S 487.2,13.8 491.4,13.8 S 495.6,18.4 499.8,18.4 S 504.0,19.9 508.2,19.9 S 512.4,14.9 516.6,14.9 S 520.8,19.9 525.0,19.9 S 529.2,19.9 533.4,19.9 S 537.6,19.6 541.8,19.6 S 546.0,9.3 550.2,9.3 S 554.4,15.2 558.6,15.2 S 562.8,18.3 567.0,18.3 S 571.2,17.7 575.4,17.7 S 579.6,20.0 583.8,20.0 S 588.0,19.9 592.2,19.9 S 596.4,8.7 600.6,8.7 S 604.8,15.5 609.0,15.5 S 613.2,14.0 617.4,14.0 S 621.6,13.7 625.8,13.7 S 630.0,13.8 634.2,13.8 S 638.4,16.7 642.6,16.7 S 646.8,19.9 651.0,19.9 S 655.2,19.5 659.4,19.5 S 663.6,10.9 667.8,10.9 S 672.0,17.1 676.2,17.1\" fill=\"none\" stroke=\"#3b82f6\" stroke-width=\"1\" style=\"mix-blend-mode: multiply;\" clip-path=\"url(#clip-139769523166944)\" /><path d=\"M4.0,20.0 L4.4,20.0 M12.4,20.0 L12.8,20.0 M20.8,20.0 L21.2,20.0 M29.2,20.0 L29.6,20.0 M37.6,20.0 L38.0,20.0 M46.0,20.0 L46.4,20.0 M54.4,20.0 L54.8,20.0 M62.8,20.0 L63.2,20.0 M71.2,20.0 L71.6,20.0 M79.6,20.0 L80.0,20.0 M88.0,20.0 L88.4,20.0 M96.4,20.0 L96.8,20.0 M104.8,20.0 L105.2,20.0 M113.2,20.0 L113.6,20.0 M121.6,20.0 L122.0,20.0 M130.0,20.0 L130.4,20.0 M138.4,20.0 L138.8,20.0 M146.8,20.0 L147.2,20.0 M155.2,20.0 L155.6,20.0 M163.6,20.0 L164.0,20.0 M172.0,20.0 L172.4,20.0 M180.4,20.0 L180.8,20.0 M188.8,20.0 L189.2,20.0 M197.2,20.0 L197.6,20.0 M205.6,20.0 L206.0,20.0 M214.0,20.0 L214.4,20.0 M222.4,20.0 L222.8,20.0 M230.8,20.0 L231.2,20.0 M239.2,20.0 L239.6,20.0 M247.6,20.0 L248.0,20.0 M256.0,20.0 L256.4,20.0 M264.4,20.0 L264.8,20.0 M272.8,20.0 L273.2,20.0 M281.2,20.0 L281.6,20.0 M289.6,20.0 L290.0,20.0 M298.0,20.0 L298.4,20.0 M306.4,20.0 L306.8,20.0 M314.8,20.0 L315.2,20.0 M323.2,20.0 L323.6,20.0 M331.6,20.0 L332.0,20.0 M340.0,20.0 L340.4,20.0 M348.4,20.0 L348.8,20.0 M356.8,20.0 L357.2,20.0 M365.2,20.0 L365.6,20.0 M373.6,20.0 L374.0,20.0 M382.0,20.0 L382.4,20.0 M390.4,20.0 L390.8,20.0 M398.8,20.0 L399.2,20.0 M407.2,20.0 L407.6,20.0 M415.6,20.0 L416.0,20.0 M424.0,20.0 L424.4,20.0 M432.4,20.0 L432.8,20.0 M440.8,20.0 L441.2,20.0 M449.2,20.0 L449.6,20.0 M457.6,20.0 L458.0,20.0 M466.0,20.0 L466.4,20.0 M474.4,20.0 L474.8,20.0 M482.8,20.0 L483.2,20.0 M491.2,20.0 L491.6,20.0 M499.6,20.0 L500.0,20.0 M508.0,20.0 L508.4,20.0 M516.4,20.0 L516.8,20.0 M524.8,20.0 L525.2,20.0 M533.2,20.0 L533.6,20.0 M541.6,20.0 L542.0,20.0 M550.0,20.0 L550.4,20.0 M558.4,20.0 L558.8,20.0 M566.8,20.0 L567.2,20.0 M575.2,20.0 L575.6,20.0 M583.6,20.0 L584.0,20.0 M592.0,20.0 L592.4,20.0 M600.4,20.0 L600.8,20.0 M608.8,20.0 L609.2,20.0 M617.2,20.0 L617.6,20.0 M625.6,20.0 L626.0,20.0 M634.0,20.0 L634.4,20.0 M642.4,20.0 L642.8,20.0 M650.8,20.0 L651.2,20.0 M659.2,20.0 L659.6,20.0 M667.6,20.0 L668.0,20.0\" fill=\"none\" stroke=\"#ddd\" stroke-width=\"3\" stroke-linecap=\"round\" style=\"mix-blend-mode: multiply;\" /></g><g transform=\"translate(692.0, 122)\"><path d=\"M   0,2.40242L1.02564,0.452317L2.05128,   0L3.07692,0.76659L4.10256,2.27127L5.12821,4.12015L6.15385,6.10754L7.17949,8.13543L8.20513,10.1048L9.23077,11.8988L10.2564,13.4409L11.2821,14.7298L12.3077,15.8011L13.3333,16.667L14.359,17.3089L15.3846,17.7257L16.4103,17.9744L17.4359,18.1516L18.4615,18.3375L19.4872,18.5563L20.5128,18.7845L21.5385,18.9882L22.5641,19.1538L23.5897,19.2926L24.6154,19.425L25.641,19.5614L26.6667,19.6951L27.6923,19.8108L28.7179,19.8965L29.7436,19.9502L30.7692,19.9781L31.7949,19.9881L32.8205,19.9847L33.8462,19.9663L34.8718,19.927L35.8974,19.861L36.9231,19.7703L37.9487,19.6711L38.9744,19.5921L  40,19.5617L  40,  20L0,  20\" fill=\"#ef4444\" opacity=\"0.05\" style=\"mix-blend-mode: multiply;\" /><path d=\"M   0,2.40242L1.02564,0.452317L2.05128,   0L3.07692,0.76659L4.10256,2.27127L5.12821,4.12015L6.15385,6.10754L7.17949,8.13543L8.20513,10.1048L9.23077,11.8988L10.2564,13.4409L11.2821,14.7298L12.3077,15.8011L13.3333,16.667L14.359,17.3089L15.3846,17.7257L16.4103,17.9744L17.4359,18.1516L18.4615,18.3375L19.4872,18.5563L20.5128,18.7845L21.5385,18.9882L22.5641,19.1538L23.5897,19.2926L24.6154,19.425L25.641,19.5614L26.6667,19.6951L27.6923,19.8108L28.7179,19.8965L29.7436,19.9502L30.7692,19.9781L31.7949,19.9881L32.8205,19.9847L33.8462,19.9663L34.8718,19.927L35.8974,19.861L36.9231,19.7703L37.9487,19.6711L38.9744,19.5921L  40,19.5617\" stroke=\"#ef4444\" stroke-width=\"1\" fill=\"none\" style=\"mix-blend-mode: multiply;\" /><path d=\"M   0,4.00485L1.02564,2.91517L2.05128,2.24224L3.07692,1.96667L4.10256,2.01685L5.12821,2.28388L6.15385,2.64269L7.17949,2.97411L8.20513,3.1832L9.23077,3.21078L10.2564,3.03708L11.2821,2.67879L12.3077,2.18146L13.3333,1.60975L14.359,1.0373L15.3846,0.537407L16.4103,0.174959L17.4359,   0L18.4615,0.0430113L19.4872,0.312253L20.5128,0.793475L21.5385,1.4522L22.5641,2.23846L23.5897,3.09359L24.6154,3.95817L25.641,4.77989L26.6667,5.52032L27.6923,6.15922L28.7179,6.69604L29.7436,7.1483L30.7692,7.54749L31.7949,7.93343L32.8205,8.34794L33.8462,8.82888L34.8718,9.4052L35.8974,10.0933L36.9231,10.8949L37.9487,11.7972L38.9744,12.774L  40,13.7893L  40,  20L0,  20\" fill=\"#3b82f6\" opacity=\"0.05\" style=\"mix-blend-mode: multiply;\" /><path d=\"M   0,4.00485L1.02564,2.91517L2.05128,2.24224L3.07692,1.96667L4.10256,2.01685L5.12821,2.28388L6.15385,2.64269L7.17949,2.97411L8.20513,3.1832L9.23077,3.21078L10.2564,3.03708L11.2821,2.67879L12.3077,2.18146L13.3333,1.60975L14.359,1.0373L15.3846,0.537407L16.4103,0.174959L17.4359,   0L18.4615,0.0430113L19.4872,0.312253L20.5128,0.793475L21.5385,1.4522L22.5641,2.23846L23.5897,3.09359L24.6154,3.95817L25.641,4.77989L26.6667,5.52032L27.6923,6.15922L28.7179,6.69604L29.7436,7.1483L30.7692,7.54749L31.7949,7.93343L32.8205,8.34794L33.8462,8.82888L34.8718,9.4052L35.8974,10.0933L36.9231,10.8949L37.9487,11.7972L38.9744,12.774L  40,13.7893\" stroke=\"#3b82f6\" stroke-width=\"1\" fill=\"none\" style=\"mix-blend-mode: multiply;\" /><line x1=\"0\" y1=\"20\" x2=\"40\" y2=\"20\" stroke=\"silver\" shape-rendering=\"crispEdges\" style=\"mix-blend-mode: multiply;\" /></g><g transform=\"translate(10, 169)\"><text font-family=\"Courier\" font-size=\"14\" y=\"-2.8\" text-anchor=\"middle\" fill=\"#666666\"><tspan x=\"4.2\">h</tspan><tspan x=\"12.6\">e</tspan><tspan x=\"21\"> </tspan><tspan x=\"29.4\">S</tspan><tspan x=\"37.8\">i</tspan><tspan x=\"46.2\">r</tspan><tspan x=\"54.6\"> </tspan><tspan x=\"63\">P</tspan><tspan x=\"71.4\">e</tspan><tspan x=\"79.8\">r</tspan><tspan x=\"88.2\">c</tspan><tspan x=\"96.6\">y</tspan><tspan x=\"105\"> </tspan><tspan x=\"113.4\">P</tspan><tspan x=\"121.8\">i</tspan><tspan x=\"130.2\">s</tspan><tspan x=\"138.6\">t</tspan><tspan x=\"147\">a</tspan><tspan x=\"155.4\">i</tspan><tspan x=\"163.8\">n</tspan><tspan x=\"172.2\">s</tspan><tspan x=\"180.6\"> </tspan><tspan x=\"189\">o</tspan><tspan x=\"197.4\">f</tspan><tspan x=\"205.8\">\n",
       "</tspan><tspan x=\"214.2\">w</tspan><tspan x=\"222.6\">i</tspan><tspan x=\"231\">t</tspan><tspan x=\"239.4\">h</tspan><tspan x=\"247.8\"> </tspan><tspan x=\"256.2\">t</tspan><tspan x=\"264.6\">h</tspan><tspan x=\"273\">e</tspan><tspan x=\"281.4\"> </tspan><tspan x=\"289.8\">b</tspan><tspan x=\"298.2\">o</tspan><tspan x=\"306.6\">r</tspan><tspan x=\"315\">n</tspan><tspan x=\"323.4\"> </tspan><tspan x=\"331.8\">o</tspan><tspan x=\"340.2\">f</tspan><tspan x=\"348.6\"> </tspan><tspan x=\"357\">h</tspan><tspan x=\"365.4\">e</tspan><tspan x=\"373.8\">r</tspan><tspan x=\"382.2\"> </tspan><tspan x=\"390.6\">s</tspan><tspan x=\"399\">o</tspan><tspan x=\"407.4\"> </tspan><tspan x=\"415.8\">s</tspan><tspan x=\"424.2\">h</tspan><tspan x=\"432.6\">e</tspan><tspan x=\"441\"> </tspan><tspan x=\"449.4\">s</tspan><tspan x=\"457.8\">t</tspan><tspan x=\"466.2\">o</tspan><tspan x=\"474.6\">o</tspan><tspan x=\"483\">p</tspan><tspan x=\"491.4\">s</tspan><tspan x=\"499.8\">,</tspan><tspan x=\"508.2\"> </tspan><tspan x=\"516.6\">o</tspan><tspan x=\"525\">f</tspan><tspan x=\"533.4\"> </tspan><tspan x=\"541.8\">h</tspan><tspan x=\"550.2\">e</tspan><tspan x=\"558.6\">r</tspan><tspan x=\"567\"> </tspan><tspan x=\"575.4\">h</tspan><tspan x=\"583.8\">o</tspan><tspan x=\"592.2\">u</tspan><tspan x=\"600.6\">r</tspan><tspan x=\"609\">s</tspan><tspan x=\"617.4\">,</tspan><tspan x=\"625.8\"> </tspan><tspan x=\"634.2\">w</tspan><tspan x=\"642.6\">h</tspan><tspan x=\"651\">a</tspan><tspan x=\"659.4\">t</tspan><tspan x=\"667.8\"> </tspan></text></g><g transform=\"translate(10, 170)\"><clipPath id=\"clip-139769523174944\"><rect x=\"0\" y=\"-20\" width=\"672\" height=\"40\" /></clipPath><path d=\"M -4.2,14.8 S 0.0,18.2 4.2,18.2 S 8.4,19.7 12.6,19.7 S 16.8,19.9 21.0,19.9 S 25.2,-8.3 29.4,-8.3 S 33.6,9.5 37.8,9.5 S 42.0,20.0 46.2,20.0 S 50.4,20.0 54.6,20.0 S 58.8,19.8 63.0,19.8 S 67.2,19.6 71.4,19.6 S 75.6,20.0 79.8,20.0 S 84.0,20.0 88.2,20.0 S 92.4,20.0 96.6,20.0 S 100.8,19.9 105.0,19.9 S 109.2,10.1 113.4,10.1 S 117.6,16.4 121.8,16.4 S 126.0,15.4 130.2,15.4 S 134.4,16.4 138.6,16.4 S 142.8,15.1 147.0,15.1 S 151.2,12.6 155.4,12.6 S 159.6,20.0 163.8,20.0 S 168.0,14.8 172.2,14.8 S 176.4,19.3 180.6,19.3 S 184.8,14.5 189.0,14.5 S 193.2,19.9 197.4,19.9 S 201.6,20.0 205.8,20.0 S 210.0,1.1 214.2,1.1 S 218.4,16.9 222.6,16.9 S 226.8,19.9 231.0,19.9 S 235.2,20.0 239.4,20.0 S 243.6,20.0 247.8,20.0 S 252.0,16.3 256.2,16.3 S 260.4,20.0 264.6,20.0 S 268.8,19.9 273.0,19.9 S 277.2,20.0 281.4,20.0 S 285.6,4.5 289.8,4.5 S 294.0,12.6 298.2,12.6 S 302.4,17.7 306.6,17.7 S 310.8,14.4 315.0,14.4 S 319.2,13.1 323.4,13.1 S 327.6,18.7 331.8,18.7 S 336.0,19.8 340.2,19.8 S 344.4,20.0 348.6,20.0 S 352.8,14.2 357.0,14.2 S 361.2,16.2 365.4,16.2 S 369.6,19.9 373.8,19.9 S 378.0,20.0 382.2,20.0 S 386.4,11.1 390.6,11.1 S 394.8,8.5 399.0,8.5 S 403.2,5.2 407.4,5.2 S 411.6,9.0 415.8,9.0 S 420.0,14.5 424.2,14.5 S 428.4,19.3 432.6,19.3 S 436.8,20.0 441.0,20.0 S 445.2,11.9 449.4,11.9 S 453.6,13.8 457.8,13.8 S 462.0,18.5 466.2,18.5 S 470.4,18.8 474.6,18.8 S 478.8,15.7 483.0,15.7 S 487.2,9.4 491.4,9.4 S 495.6,11.2 499.8,11.2 S 504.0,20.0 508.2,20.0 S 512.4,4.3 516.6,4.3 S 520.8,16.2 525.0,16.2 S 529.2,20.0 533.4,20.0 S 537.6,15.7 541.8,15.7 S 546.0,17.1 550.2,17.1 S 554.4,19.9 558.6,19.9 S 562.8,19.9 567.0,19.9 S 571.2,13.4 575.4,13.4 S 579.6,6.5 583.8,6.5 S 588.0,16.8 592.2,16.8 S 596.4,19.9 600.6,19.9 S 604.8,15.1 609.0,15.1 S 613.2,11.3 617.4,11.3 S 621.6,20.0 625.8,20.0 S 630.0,12.8 634.2,12.8 S 638.4,16.5 642.6,16.5 S 646.8,1.1 651.0,1.1 S 655.2,19.8 659.4,19.8 S 663.6,20.0 667.8,20.0 S 672.0,11.8 676.2,11.8\" fill=\"none\" stroke=\"#ef4444\" stroke-width=\"1\" style=\"mix-blend-mode: multiply;\" clip-path=\"url(#clip-139769523174944)\" /><path d=\"M -4.2,10.9 S 0.0,17.1 4.2,17.1 S 8.4,18.7 12.6,18.7 S 16.8,19.3 21.0,19.3 S 25.2,9.3 29.4,9.3 S 33.6,13.3 37.8,13.3 S 42.0,19.7 46.2,19.7 S 50.4,19.9 54.6,19.9 S 58.8,19.3 63.0,19.3 S 67.2,18.4 71.4,18.4 S 75.6,19.9 79.8,19.9 S 84.0,19.9 88.2,19.9 S 92.4,20.0 96.6,20.0 S 100.8,19.4 105.0,19.4 S 109.2,9.1 113.4,9.1 S 117.6,14.0 121.8,14.0 S 126.0,12.5 130.2,12.5 S 134.4,14.9 138.6,14.9 S 142.8,13.5 147.0,13.5 S 151.2,12.2 155.4,12.2 S 159.6,20.0 163.8,20.0 S 168.0,14.4 172.2,14.4 S 176.4,17.6 180.6,17.6 S 184.8,11.7 189.0,11.7 S 193.2,19.6 197.4,19.6 S 201.6,19.9 205.8,19.9 S 210.0,12.5 214.2,12.5 S 218.4,14.6 222.6,14.6 S 226.8,19.4 231.0,19.4 S 235.2,20.0 239.4,20.0 S 243.6,19.7 247.8,19.7 S 252.0,12.7 256.2,12.7 S 260.4,19.9 264.6,19.9 S 268.8,19.6 273.0,19.6 S 277.2,19.9 281.4,19.9 S 285.6,8.7 289.8,8.7 S 294.0,12.8 298.2,12.8 S 302.4,13.9 306.6,13.9 S 310.8,12.1 315.0,12.1 S 319.2,14.7 323.4,14.7 S 327.6,14.9 331.8,14.9 S 336.0,19.1 340.2,19.1 S 344.4,20.0 348.6,20.0 S 352.8,14.5 357.0,14.5 S 361.2,16.2 365.4,16.2 S 369.6,19.3 373.8,19.3 S 378.0,19.7 382.2,19.7 S 386.4,10.3 390.6,10.3 S 394.8,13.4 399.0,13.4 S 403.2,12.1 407.4,12.1 S 411.6,10.4 415.8,10.4 S 420.0,11.8 424.2,11.8 S 428.4,17.6 432.6,17.6 S 436.8,19.8 441.0,19.8 S 445.2,10.1 449.4,10.1 S 453.6,11.3 457.8,11.3 S 462.0,16.1 466.2,16.1 S 470.4,16.7 474.6,16.7 S 478.8,12.3 483.0,12.3 S 487.2,12.5 491.4,12.5 S 495.6,16.5 499.8,16.5 S 504.0,20.0 508.2,20.0 S 512.4,11.1 516.6,11.1 S 520.8,15.7 525.0,15.7 S 529.2,20.0 533.4,20.0 S 537.6,15.5 541.8,15.5 S 546.0,16.4 550.2,16.4 S 554.4,19.4 558.6,19.4 S 562.8,19.5 567.0,19.5 S 571.2,10.0 575.4,10.0 S 579.6,13.8 583.8,13.8 S 588.0,14.2 592.2,14.2 S 596.4,19.6 600.6,19.6 S 604.8,14.9 609.0,14.9 S 613.2,16.0 617.4,16.0 S 621.6,20.0 625.8,20.0 S 630.0,11.9 634.2,11.9 S 638.4,15.4 642.6,15.4 S 646.8,17.1 651.0,17.1 S 655.2,19.2 659.4,19.2 S 663.6,19.9 667.8,19.9 S 672.0,11.1 676.2,11.1\" fill=\"none\" stroke=\"#3b82f6\" stroke-width=\"1\" style=\"mix-blend-mode: multiply;\" clip-path=\"url(#clip-139769523174944)\" /><path d=\"M4.0,20.0 L4.4,20.0 M12.4,20.0 L12.8,20.0 M20.8,20.0 L21.2,20.0 M29.2,20.0 L29.6,20.0 M37.6,20.0 L38.0,20.0 M46.0,20.0 L46.4,20.0 M54.4,20.0 L54.8,20.0 M62.8,20.0 L63.2,20.0 M71.2,20.0 L71.6,20.0 M79.6,20.0 L80.0,20.0 M88.0,20.0 L88.4,20.0 M96.4,20.0 L96.8,20.0 M104.8,20.0 L105.2,20.0 M113.2,20.0 L113.6,20.0 M121.6,20.0 L122.0,20.0 M130.0,20.0 L130.4,20.0 M138.4,20.0 L138.8,20.0 M146.8,20.0 L147.2,20.0 M155.2,20.0 L155.6,20.0 M163.6,20.0 L164.0,20.0 M172.0,20.0 L172.4,20.0 M180.4,20.0 L180.8,20.0 M188.8,20.0 L189.2,20.0 M197.2,20.0 L197.6,20.0 M205.6,20.0 L206.0,20.0 M214.0,20.0 L214.4,20.0 M222.4,20.0 L222.8,20.0 M230.8,20.0 L231.2,20.0 M239.2,20.0 L239.6,20.0 M247.6,20.0 L248.0,20.0 M256.0,20.0 L256.4,20.0 M264.4,20.0 L264.8,20.0 M272.8,20.0 L273.2,20.0 M281.2,20.0 L281.6,20.0 M289.6,20.0 L290.0,20.0 M298.0,20.0 L298.4,20.0 M306.4,20.0 L306.8,20.0 M314.8,20.0 L315.2,20.0 M323.2,20.0 L323.6,20.0 M331.6,20.0 L332.0,20.0 M340.0,20.0 L340.4,20.0 M348.4,20.0 L348.8,20.0 M356.8,20.0 L357.2,20.0 M365.2,20.0 L365.6,20.0 M373.6,20.0 L374.0,20.0 M382.0,20.0 L382.4,20.0 M390.4,20.0 L390.8,20.0 M398.8,20.0 L399.2,20.0 M407.2,20.0 L407.6,20.0 M415.6,20.0 L416.0,20.0 M424.0,20.0 L424.4,20.0 M432.4,20.0 L432.8,20.0 M440.8,20.0 L441.2,20.0 M449.2,20.0 L449.6,20.0 M457.6,20.0 L458.0,20.0 M466.0,20.0 L466.4,20.0 M474.4,20.0 L474.8,20.0 M482.8,20.0 L483.2,20.0 M491.2,20.0 L491.6,20.0 M499.6,20.0 L500.0,20.0 M508.0,20.0 L508.4,20.0 M516.4,20.0 L516.8,20.0 M524.8,20.0 L525.2,20.0 M533.2,20.0 L533.6,20.0 M541.6,20.0 L542.0,20.0 M550.0,20.0 L550.4,20.0 M558.4,20.0 L558.8,20.0 M566.8,20.0 L567.2,20.0 M575.2,20.0 L575.6,20.0 M583.6,20.0 L584.0,20.0 M592.0,20.0 L592.4,20.0 M600.4,20.0 L600.8,20.0 M608.8,20.0 L609.2,20.0 M617.2,20.0 L617.6,20.0 M625.6,20.0 L626.0,20.0 M634.0,20.0 L634.4,20.0 M642.4,20.0 L642.8,20.0 M650.8,20.0 L651.2,20.0 M659.2,20.0 L659.6,20.0 M667.6,20.0 L668.0,20.0\" fill=\"none\" stroke=\"#ddd\" stroke-width=\"3\" stroke-linecap=\"round\" style=\"mix-blend-mode: multiply;\" /></g><g transform=\"translate(692.0, 170)\"><path d=\"M   0,0.908551L1.02564,   0L2.05128,0.286241L3.07692,1.43213L4.10256,2.99198L5.12821,4.60013L6.15385,6.06877L7.17949,7.37072L8.20513,8.55767L9.23077,9.68319L10.2564,10.7682L11.2821,11.8061L12.3077,12.7825L13.3333,13.6887L14.359,14.5213L15.3846,15.2743L16.4103,15.9338L17.4359,16.4822L18.4615,16.9098L19.4872,17.2262L20.5128,17.46L21.5385,17.6484L22.5641,17.8228L23.5897,18.001L24.6154,18.1895L25.641,18.3913L26.6667,18.6096L27.6923,18.8449L28.7179,19.0894L29.7436,19.3261L30.7692,19.5334L31.7949,19.6926L32.8205,19.7937L33.8462,19.8359L34.8718,19.8255L35.8974,19.7746L36.9231,19.6998L37.9487,19.6224L38.9744,19.5642L  40,19.5428L  40,  20L0,  20\" fill=\"#ef4444\" opacity=\"0.05\" style=\"mix-blend-mode: multiply;\" /><path d=\"M   0,0.908551L1.02564,   0L2.05128,0.286241L3.07692,1.43213L4.10256,2.99198L5.12821,4.60013L6.15385,6.06877L7.17949,7.37072L8.20513,8.55767L9.23077,9.68319L10.2564,10.7682L11.2821,11.8061L12.3077,12.7825L13.3333,13.6887L14.359,14.5213L15.3846,15.2743L16.4103,15.9338L17.4359,16.4822L18.4615,16.9098L19.4872,17.2262L20.5128,17.46L21.5385,17.6484L22.5641,17.8228L23.5897,18.001L24.6154,18.1895L25.641,18.3913L26.6667,18.6096L27.6923,18.8449L28.7179,19.0894L29.7436,19.3261L30.7692,19.5334L31.7949,19.6926L32.8205,19.7937L33.8462,19.8359L34.8718,19.8255L35.8974,19.7746L36.9231,19.6998L37.9487,19.6224L38.9744,19.5642L  40,19.5428\" stroke=\"#ef4444\" stroke-width=\"1\" fill=\"none\" style=\"mix-blend-mode: multiply;\" /><path d=\"M   0,1.01566L1.02564,0.214397L2.05128,   0L3.07692,0.337945L4.10256,1.12994L5.12821,2.23228L6.15385,3.48121L7.17949,4.71946L8.20513,5.81819L9.23077,6.69059L10.2564,7.29578L11.2821,7.63431L12.3077,7.73787L13.3333,7.65678L14.359,7.44808L15.3846,7.16624L16.4103,6.85732L17.4359,6.55647L18.4615,6.2881L19.4872,6.06795L20.5128,5.90617L21.5385,5.81046L22.5641,5.78868L23.5897,5.85019L24.6154,6.00566L25.641,6.26531L26.6667,6.63619L27.6923,7.11942L28.7179,7.70832L29.7436,8.38822L30.7692,9.1382L31.7949,9.93427L32.8205,10.7531L33.8462,11.5751L34.8718,12.3864L35.8974,13.1788L36.9231,13.9481L37.9487,14.6922L38.9744,15.4083L  40,16.0918L  40,  20L0,  20\" fill=\"#3b82f6\" opacity=\"0.05\" style=\"mix-blend-mode: multiply;\" /><path d=\"M   0,1.01566L1.02564,0.214397L2.05128,   0L3.07692,0.337945L4.10256,1.12994L5.12821,2.23228L6.15385,3.48121L7.17949,4.71946L8.20513,5.81819L9.23077,6.69059L10.2564,7.29578L11.2821,7.63431L12.3077,7.73787L13.3333,7.65678L14.359,7.44808L15.3846,7.16624L16.4103,6.85732L17.4359,6.55647L18.4615,6.2881L19.4872,6.06795L20.5128,5.90617L21.5385,5.81046L22.5641,5.78868L23.5897,5.85019L24.6154,6.00566L25.641,6.26531L26.6667,6.63619L27.6923,7.11942L28.7179,7.70832L29.7436,8.38822L30.7692,9.1382L31.7949,9.93427L32.8205,10.7531L33.8462,11.5751L34.8718,12.3864L35.8974,13.1788L36.9231,13.9481L37.9487,14.6922L38.9744,15.4083L  40,16.0918\" stroke=\"#3b82f6\" stroke-width=\"1\" fill=\"none\" style=\"mix-blend-mode: multiply;\" /><line x1=\"0\" y1=\"20\" x2=\"40\" y2=\"20\" stroke=\"silver\" shape-rendering=\"crispEdges\" style=\"mix-blend-mode: multiply;\" /></g><g transform=\"translate(10, 217)\"><text font-family=\"Courier\" font-size=\"14\" y=\"-2.8\" text-anchor=\"middle\" fill=\"#666666\"><tspan x=\"4.2\">a</tspan><tspan x=\"12.6\"> </tspan><tspan x=\"21\">r</tspan><tspan x=\"29.4\">e</tspan><tspan x=\"37.8\">a</tspan><tspan x=\"46.2\">d</tspan><tspan x=\"54.6\">y</tspan><tspan x=\"63\"> </tspan><tspan x=\"71.4\">b</tspan><tspan x=\"79.8\">e</tspan><tspan x=\"88.2\">e</tspan><tspan x=\"96.6\">n</tspan><tspan x=\"105\">\n",
       "</tspan><tspan x=\"113.4\">o</tspan><tspan x=\"121.8\">n</tspan><tspan x=\"130.2\"> </tspan><tspan x=\"138.6\">t</tspan><tspan x=\"147\">h</tspan><tspan x=\"155.4\">e</tspan><tspan x=\"163.8\"> </tspan><tspan x=\"172.2\">m</tspan><tspan x=\"180.6\">e</tspan><tspan x=\"189\">n</tspan><tspan x=\"197.4\">o</tspan><tspan x=\"205.8\">b</tspan><tspan x=\"214.2\">l</tspan><tspan x=\"222.6\">e</tspan><tspan x=\"231\"> </tspan><tspan x=\"239.4\">f</tspan><tspan x=\"247.8\">o</tspan><tspan x=\"256.2\">r</tspan><tspan x=\"264.6\"> </tspan><tspan x=\"273\">h</tspan><tspan x=\"281.4\">i</tspan><tspan x=\"289.8\">s</tspan><tspan x=\"298.2\"> </tspan><tspan x=\"306.6\">f</tspan><tspan x=\"315\">o</tspan><tspan x=\"323.4\">r</tspan><tspan x=\"331.8\"> </tspan><tspan x=\"340.2\">h</tspan><tspan x=\"348.6\">o</tspan><tspan x=\"357\">w</tspan><tspan x=\"365.4\"> </tspan><tspan x=\"373.8\">f</tspan><tspan x=\"382.2\">o</tspan><tspan x=\"390.6\">r</tspan><tspan x=\"399\"> </tspan><tspan x=\"407.4\">a</tspan><tspan x=\"415.8\"> </tspan><tspan x=\"424.2\">w</tspan><tspan x=\"432.6\">i</tspan><tspan x=\"441\">t</tspan><tspan x=\"449.4\">h</tspan><tspan x=\"457.8\">o</tspan><tspan x=\"466.2\">u</tspan><tspan x=\"474.6\">t</tspan><tspan x=\"483\"> </tspan><tspan x=\"491.4\">s</tspan><tspan x=\"499.8\">o</tspan><tspan x=\"508.2\"> </tspan><tspan x=\"516.6\">h</tspan><tspan x=\"525\">i</tspan><tspan x=\"533.4\">s</tspan><tspan x=\"541.8\"> </tspan><tspan x=\"550.2\">m</tspan><tspan x=\"558.6\">a</tspan><tspan x=\"567\">n</tspan><tspan x=\"575.4\">,</tspan><tspan x=\"583.8\"> </tspan><tspan x=\"592.2\">t</tspan><tspan x=\"600.6\">h</tspan><tspan x=\"609\">e</tspan><tspan x=\"617.4\">n</tspan><tspan x=\"625.8\"> </tspan><tspan x=\"634.2\">t</tspan><tspan x=\"642.6\">h</tspan><tspan x=\"651\">e</tspan><tspan x=\"659.4\">\n",
       "</tspan><tspan x=\"667.8\">s</tspan></text></g><g transform=\"translate(10, 218)\"><clipPath id=\"clip-139769096871328\"><rect x=\"0\" y=\"-20\" width=\"672\" height=\"40\" /></clipPath><path d=\"M -4.2,20.0 S 0.0,11.8 4.2,11.8 S 8.4,17.2 12.6,17.2 S 16.8,0.6 21.0,0.6 S 25.2,19.1 29.4,19.1 S 33.6,17.8 37.8,17.8 S 42.0,17.7 46.2,17.7 S 50.4,18.0 54.6,18.0 S 58.8,19.8 63.0,19.8 S 67.2,6.1 71.4,6.1 S 75.6,14.1 79.8,14.1 S 84.0,9.9 88.2,9.9 S 92.4,20.0 96.6,20.0 S 100.8,19.8 105.0,19.8 S 109.2,11.4 113.4,11.4 S 117.6,7.0 121.8,7.0 S 126.0,19.4 130.2,19.4 S 134.4,18.9 138.6,18.9 S 142.8,19.9 147.0,19.9 S 151.2,19.9 155.4,19.9 S 159.6,20.0 163.8,20.0 S 168.0,9.3 172.2,9.3 S 176.4,12.5 180.6,12.5 S 184.8,16.3 189.0,16.3 S 193.2,7.4 197.4,7.4 S 201.6,-1.7 205.8,-1.7 S 210.0,19.2 214.2,19.2 S 218.4,19.9 222.6,19.9 S 226.8,18.3 231.0,18.3 S 235.2,0.7 239.4,0.7 S 243.6,19.4 247.8,19.4 S 252.0,19.9 256.2,19.9 S 260.4,19.9 264.6,19.9 S 268.8,16.0 273.0,16.0 S 277.2,14.3 281.4,14.3 S 285.6,19.7 289.8,19.7 S 294.0,20.0 298.2,20.0 S 302.4,5.3 306.6,5.3 S 310.8,18.1 315.0,18.1 S 319.2,17.7 323.4,17.7 S 327.6,20.0 331.8,20.0 S 336.0,11.9 340.2,11.9 S 344.4,-2.1 348.6,-2.1 S 352.8,17.1 357.0,17.1 S 361.2,18.6 365.4,18.6 S 369.6,2.4 373.8,2.4 S 378.0,18.6 382.2,18.6 S 386.4,18.7 390.6,18.7 S 394.8,19.7 399.0,19.7 S 403.2,12.2 407.4,12.2 S 411.6,19.5 415.8,19.5 S 420.0,5.7 424.2,5.7 S 428.4,9.3 432.6,9.3 S 436.8,19.2 441.0,19.2 S 445.2,20.0 449.4,20.0 S 453.6,17.2 457.8,17.2 S 462.0,20.0 466.2,20.0 S 470.4,20.0 474.6,20.0 S 478.8,19.5 483.0,19.5 S 487.2,6.2 491.4,6.2 S 495.6,11.2 499.8,11.2 S 504.0,18.3 508.2,18.3 S 512.4,12.7 516.6,12.7 S 520.8,17.6 525.0,17.6 S 529.2,19.7 533.4,19.7 S 537.6,19.2 541.8,19.2 S 546.0,4.9 550.2,4.9 S 554.4,17.8 558.6,17.8 S 562.8,19.4 567.0,19.4 S 571.2,9.5 575.4,9.5 S 579.6,20.0 583.8,20.0 S 588.0,10.8 592.2,10.8 S 596.4,19.5 600.6,19.5 S 604.8,20.0 609.0,20.0 S 613.2,8.6 617.4,8.6 S 621.6,19.8 625.8,19.8 S 630.0,11.3 634.2,11.3 S 638.4,18.7 642.6,18.7 S 646.8,19.9 651.0,19.9 S 655.2,19.9 659.4,19.9 S 663.6,14.0 667.8,14.0 S 672.0,16.3 676.2,16.3\" fill=\"none\" stroke=\"#ef4444\" stroke-width=\"1\" style=\"mix-blend-mode: multiply;\" clip-path=\"url(#clip-139769096871328)\" /><path d=\"M -4.2,19.9 S 0.0,11.1 4.2,11.1 S 8.4,14.1 12.6,14.1 S 16.8,12.5 21.0,12.5 S 25.2,17.2 29.4,17.2 S 33.6,13.9 37.8,13.9 S 42.0,13.7 46.2,13.7 S 50.4,15.2 54.6,15.2 S 58.8,19.0 63.0,19.0 S 67.2,10.7 71.4,10.7 S 75.6,11.6 79.8,11.6 S 84.0,9.2 88.2,9.2 S 92.4,20.0 96.6,20.0 S 100.8,19.0 105.0,19.0 S 109.2,9.9 113.4,9.9 S 117.6,18.2 121.8,18.2 S 126.0,17.6 130.2,17.6 S 134.4,16.7 138.6,16.7 S 142.8,19.5 147.0,19.5 S 151.2,19.6 155.4,19.6 S 159.6,19.9 163.8,19.9 S 168.0,8.8 172.2,8.8 S 176.4,14.4 180.6,14.4 S 184.8,13.3 189.0,13.3 S 193.2,16.2 197.4,16.2 S 201.6,13.2 205.8,13.2 S 210.0,17.8 214.2,17.8 S 218.4,19.3 222.6,19.3 S 226.8,16.1 231.0,16.1 S 235.2,12.1 239.4,12.1 S 243.6,17.5 247.8,17.5 S 252.0,19.5 256.2,19.5 S 260.4,19.2 264.6,19.2 S 268.8,12.8 273.0,12.8 S 277.2,16.9 281.4,16.9 S 285.6,18.9 289.8,18.9 S 294.0,19.8 298.2,19.8 S 302.4,9.0 306.6,9.0 S 310.8,15.1 315.0,15.1 S 319.2,14.8 323.4,14.8 S 327.6,19.8 331.8,19.8 S 336.0,12.7 340.2,12.7 S 344.4,16.3 348.6,16.3 S 352.8,13.5 357.0,13.5 S 361.2,15.3 365.4,15.3 S 369.6,10.8 373.8,10.8 S 378.0,15.9 382.2,15.9 S 386.4,16.7 390.6,16.7 S 394.8,18.7 399.0,18.7 S 403.2,13.4 407.4,13.4 S 411.6,17.8 415.8,17.8 S 420.0,9.9 424.2,9.9 S 428.4,14.1 432.6,14.1 S 436.8,16.9 441.0,16.9 S 445.2,19.9 449.4,19.9 S 453.6,15.9 457.8,15.9 S 462.0,19.9 466.2,19.9 S 470.4,19.7 474.6,19.7 S 478.8,18.1 483.0,18.1 S 487.2,11.2 491.4,11.2 S 495.6,11.9 499.8,11.9 S 504.0,15.1 508.2,15.1 S 512.4,10.1 516.6,10.1 S 520.8,15.6 525.0,15.6 S 529.2,18.7 533.4,18.7 S 537.6,17.6 541.8,17.6 S 546.0,8.1 550.2,8.1 S 554.4,15.0 558.6,15.0 S 562.8,17.5 567.0,17.5 S 571.2,13.3 575.4,13.3 S 579.6,20.0 583.8,20.0 S 588.0,11.3 592.2,11.3 S 596.4,18.5 600.6,18.5 S 604.8,19.7 609.0,19.7 S 613.2,16.9 617.4,16.9 S 621.6,19.1 625.8,19.1 S 630.0,10.3 634.2,10.3 S 638.4,16.6 642.6,16.6 S 646.8,19.5 651.0,19.5 S 655.2,19.6 659.4,19.6 S 663.6,9.2 667.8,9.2 S 672.0,13.4 676.2,13.4\" fill=\"none\" stroke=\"#3b82f6\" stroke-width=\"1\" style=\"mix-blend-mode: multiply;\" clip-path=\"url(#clip-139769096871328)\" /><path d=\"M4.0,20.0 L4.4,20.0 M12.4,20.0 L12.8,20.0 M20.8,20.0 L21.2,20.0 M29.2,20.0 L29.6,20.0 M37.6,20.0 L38.0,20.0 M46.0,20.0 L46.4,20.0 M54.4,20.0 L54.8,20.0 M62.8,20.0 L63.2,20.0 M71.2,20.0 L71.6,20.0 M79.6,20.0 L80.0,20.0 M88.0,20.0 L88.4,20.0 M96.4,20.0 L96.8,20.0 M104.8,20.0 L105.2,20.0 M113.2,20.0 L113.6,20.0 M121.6,20.0 L122.0,20.0 M130.0,20.0 L130.4,20.0 M138.4,20.0 L138.8,20.0 M146.8,20.0 L147.2,20.0 M155.2,20.0 L155.6,20.0 M163.6,20.0 L164.0,20.0 M172.0,20.0 L172.4,20.0 M180.4,20.0 L180.8,20.0 M188.8,20.0 L189.2,20.0 M197.2,20.0 L197.6,20.0 M205.6,20.0 L206.0,20.0 M214.0,20.0 L214.4,20.0 M222.4,20.0 L222.8,20.0 M230.8,20.0 L231.2,20.0 M239.2,20.0 L239.6,20.0 M247.6,20.0 L248.0,20.0 M256.0,20.0 L256.4,20.0 M264.4,20.0 L264.8,20.0 M272.8,20.0 L273.2,20.0 M281.2,20.0 L281.6,20.0 M289.6,20.0 L290.0,20.0 M298.0,20.0 L298.4,20.0 M306.4,20.0 L306.8,20.0 M314.8,20.0 L315.2,20.0 M323.2,20.0 L323.6,20.0 M331.6,20.0 L332.0,20.0 M340.0,20.0 L340.4,20.0 M348.4,20.0 L348.8,20.0 M356.8,20.0 L357.2,20.0 M365.2,20.0 L365.6,20.0 M373.6,20.0 L374.0,20.0 M382.0,20.0 L382.4,20.0 M390.4,20.0 L390.8,20.0 M398.8,20.0 L399.2,20.0 M407.2,20.0 L407.6,20.0 M415.6,20.0 L416.0,20.0 M424.0,20.0 L424.4,20.0 M432.4,20.0 L432.8,20.0 M440.8,20.0 L441.2,20.0 M449.2,20.0 L449.6,20.0 M457.6,20.0 L458.0,20.0 M466.0,20.0 L466.4,20.0 M474.4,20.0 L474.8,20.0 M482.8,20.0 L483.2,20.0 M491.2,20.0 L491.6,20.0 M499.6,20.0 L500.0,20.0 M508.0,20.0 L508.4,20.0 M516.4,20.0 L516.8,20.0 M524.8,20.0 L525.2,20.0 M533.2,20.0 L533.6,20.0 M541.6,20.0 L542.0,20.0 M550.0,20.0 L550.4,20.0 M558.4,20.0 L558.8,20.0 M566.8,20.0 L567.2,20.0 M575.2,20.0 L575.6,20.0 M583.6,20.0 L584.0,20.0 M592.0,20.0 L592.4,20.0 M600.4,20.0 L600.8,20.0 M608.8,20.0 L609.2,20.0 M617.2,20.0 L617.6,20.0 M625.6,20.0 L626.0,20.0 M634.0,20.0 L634.4,20.0 M642.4,20.0 L642.8,20.0 M650.8,20.0 L651.2,20.0 M659.2,20.0 L659.6,20.0 M667.6,20.0 L668.0,20.0\" fill=\"none\" stroke=\"#ddd\" stroke-width=\"3\" stroke-linecap=\"round\" style=\"mix-blend-mode: multiply;\" /></g><g transform=\"translate(692.0, 218)\"><path d=\"M   0,1.16073L1.02564,0.176303L2.05128,   0L3.07692,0.611813L4.10256,1.88546L5.12821,3.61683L6.15385,5.56632L7.17949,7.50351L8.20513,9.24358L9.23077,10.6688L10.2564,11.7332L11.2821,12.4536L12.3077,12.8913L13.3333,13.1303L14.359,13.2574L15.3846,13.3465L16.4103,13.4502L17.4359,13.5968L18.4615,13.7942L19.4872,14.036L20.5128,14.3096L21.5385,14.6029L22.5641,14.9084L23.5897,15.2237L24.6154,15.5493L25.641,15.8853L26.6667,16.2274L27.6923,16.5663L28.7179,16.8883L29.7436,17.1788L30.7692,17.426L31.7949,17.6246L32.8205,17.7768L33.8462,17.8925L34.8718,17.9862L35.8974,18.074L36.9231,18.1706L37.9487,18.2868L38.9744,18.4281L  40,18.594L  40,  20L0,  20\" fill=\"#ef4444\" opacity=\"0.05\" style=\"mix-blend-mode: multiply;\" /><path d=\"M   0,1.16073L1.02564,0.176303L2.05128,   0L3.07692,0.611813L4.10256,1.88546L5.12821,3.61683L6.15385,5.56632L7.17949,7.50351L8.20513,9.24358L9.23077,10.6688L10.2564,11.7332L11.2821,12.4536L12.3077,12.8913L13.3333,13.1303L14.359,13.2574L15.3846,13.3465L16.4103,13.4502L17.4359,13.5968L18.4615,13.7942L19.4872,14.036L20.5128,14.3096L21.5385,14.6029L22.5641,14.9084L23.5897,15.2237L24.6154,15.5493L25.641,15.8853L26.6667,16.2274L27.6923,16.5663L28.7179,16.8883L29.7436,17.1788L30.7692,17.426L31.7949,17.6246L32.8205,17.7768L33.8462,17.8925L34.8718,17.9862L35.8974,18.074L36.9231,18.1706L37.9487,18.2868L38.9744,18.4281L  40,18.594\" stroke=\"#ef4444\" stroke-width=\"1\" fill=\"none\" style=\"mix-blend-mode: multiply;\" /><path d=\"M   0,4.33078L1.02564,2.72558L2.05128,1.47804L3.07692,0.621927L4.10256,0.145478L5.12821,   0L6.15385,0.11461L7.17949,0.412616L8.20513,0.825118L9.23077,1.29903L10.2564,1.79893L11.2821,2.30417L12.3077,2.80363L13.3333,3.29076L14.359,3.7604L15.3846,4.20799L16.4103,4.63054L17.4359,5.02819L18.4615,5.40521L19.4872,5.76944L20.5128,6.13033L21.5385,6.49607L22.5641,6.87083L23.5897,7.25333L24.6154,7.63731L25.641,8.01399L26.6667,8.37571L27.6923,8.71966L28.7179,9.05044L29.7436,9.38071L30.7692,9.7297L31.7949,10.12L32.8205,10.5731L33.8462,11.1059L34.8718,11.7265L35.8974,12.4325L36.9231,13.211L37.9487,14.0394L38.9744,14.8887L  40,15.7267L  40,  20L0,  20\" fill=\"#3b82f6\" opacity=\"0.05\" style=\"mix-blend-mode: multiply;\" /><path d=\"M   0,4.33078L1.02564,2.72558L2.05128,1.47804L3.07692,0.621927L4.10256,0.145478L5.12821,   0L6.15385,0.11461L7.17949,0.412616L8.20513,0.825118L9.23077,1.29903L10.2564,1.79893L11.2821,2.30417L12.3077,2.80363L13.3333,3.29076L14.359,3.7604L15.3846,4.20799L16.4103,4.63054L17.4359,5.02819L18.4615,5.40521L19.4872,5.76944L20.5128,6.13033L21.5385,6.49607L22.5641,6.87083L23.5897,7.25333L24.6154,7.63731L25.641,8.01399L26.6667,8.37571L27.6923,8.71966L28.7179,9.05044L29.7436,9.38071L30.7692,9.7297L31.7949,10.12L32.8205,10.5731L33.8462,11.1059L34.8718,11.7265L35.8974,12.4325L36.9231,13.211L37.9487,14.0394L38.9744,14.8887L  40,15.7267\" stroke=\"#3b82f6\" stroke-width=\"1\" fill=\"none\" style=\"mix-blend-mode: multiply;\" /><line x1=\"0\" y1=\"20\" x2=\"40\" y2=\"20\" stroke=\"silver\" shape-rendering=\"crispEdges\" style=\"mix-blend-mode: multiply;\" /></g><g transform=\"translate(10, 265)\"><text font-family=\"Courier\" font-size=\"14\" y=\"-2.8\" text-anchor=\"middle\" fill=\"#666666\"><tspan x=\"4.2\">h</tspan><tspan x=\"12.6\">o</tspan><tspan x=\"21\">u</tspan><tspan x=\"29.4\">l</tspan><tspan x=\"37.8\">d</tspan><tspan x=\"46.2\">e</tspan><tspan x=\"54.6\">r</tspan><tspan x=\"63\">s</tspan><tspan x=\"71.4\"> </tspan><tspan x=\"79.8\">h</tspan><tspan x=\"88.2\">o</tspan><tspan x=\"96.6\">r</tspan><tspan x=\"105\">d</tspan><tspan x=\"113.4\"> </tspan><tspan x=\"121.8\">o</tspan><tspan x=\"130.2\">f</tspan><tspan x=\"138.6\"> </tspan><tspan x=\"147\">s</tspan><tspan x=\"155.4\">m</tspan><tspan x=\"163.8\">i</tspan><tspan x=\"172.2\">l</tspan><tspan x=\"180.6\">e</tspan><tspan x=\"189\"> </tspan><tspan x=\"197.4\">t</tspan><tspan x=\"205.8\">h</tspan><tspan x=\"214.2\">e</tspan><tspan x=\"222.6\"> </tspan><tspan x=\"231\">s</tspan><tspan x=\"239.4\">u</tspan><tspan x=\"247.8\">d</tspan><tspan x=\"256.2\">d</tspan><tspan x=\"264.6\">l</tspan><tspan x=\"273\">i</tspan><tspan x=\"281.4\">c</tspan><tspan x=\"289.8\"> </tspan><tspan x=\"298.2\">o</tspan><tspan x=\"306.6\">f</tspan><tspan x=\"315\"> </tspan><tspan x=\"323.4\">t</tspan><tspan x=\"331.8\">h</tspan><tspan x=\"340.2\">e</tspan><tspan x=\"348.6\"> </tspan><tspan x=\"357\">o</tspan><tspan x=\"365.4\">t</tspan><tspan x=\"373.8\">h</tspan><tspan x=\"382.2\">e</tspan><tspan x=\"390.6\">r</tspan><tspan x=\"399\"> </tspan><tspan x=\"407.4\">h</tspan><tspan x=\"415.8\">a</tspan><tspan x=\"424.2\">n</tspan><tspan x=\"432.6\">d</tspan><tspan x=\"441\">,</tspan><tspan x=\"449.4\"> </tspan><tspan x=\"457.8\">a</tspan><tspan x=\"466.2\">n</tspan><tspan x=\"474.6\">d</tspan><tspan x=\"483\"> </tspan><tspan x=\"491.4\">e</tspan><tspan x=\"499.8\">x</tspan><tspan x=\"508.2\">c</tspan><tspan x=\"516.6\">i</tspan><tspan x=\"525\">c</tspan><tspan x=\"533.4\">e</tspan><tspan x=\"541.8\"> </tspan><tspan x=\"550.2\">h</tspan><tspan x=\"558.6\">i</tspan><tspan x=\"567\">s</tspan><tspan x=\"575.4\">\n",
       "</tspan><tspan x=\"583.8\">s</tspan><tspan x=\"592.2\">e</tspan><tspan x=\"600.6\">e</tspan><tspan x=\"609\">m</tspan><tspan x=\"617.4\">e</tspan><tspan x=\"625.8\">d</tspan><tspan x=\"634.2\"> </tspan><tspan x=\"642.6\">t</tspan><tspan x=\"651\">h</tspan><tspan x=\"659.4\">e</tspan><tspan x=\"667.8\"> </tspan></text></g><g transform=\"translate(10, 266)\"><clipPath id=\"clip-139769096879328\"><rect x=\"0\" y=\"-20\" width=\"672\" height=\"40\" /></clipPath><path d=\"M -4.2,14.0 S 0.0,16.3 4.2,16.3 S 8.4,19.8 12.6,19.8 S 16.8,19.9 21.0,19.9 S 25.2,20.0 29.4,20.0 S 33.6,19.6 37.8,19.6 S 42.0,14.3 46.2,14.3 S 50.4,17.3 54.6,17.3 S 58.8,19.6 63.0,19.6 S 67.2,18.7 71.4,18.7 S 75.6,11.0 79.8,11.0 S 84.0,3.9 88.2,3.9 S 92.4,14.2 96.6,14.2 S 100.8,13.3 105.0,13.3 S 109.2,18.8 113.4,18.8 S 117.6,15.2 121.8,15.2 S 126.0,19.7 130.2,19.7 S 134.4,20.0 138.6,20.0 S 142.8,3.6 147.0,3.6 S 151.2,-1.4 155.4,-1.4 S 159.6,18.3 163.8,18.3 S 168.0,20.0 172.2,20.0 S 176.4,19.5 180.6,19.5 S 184.8,18.3 189.0,18.3 S 193.2,14.1 197.4,14.1 S 201.6,19.0 205.8,19.0 S 210.0,19.8 214.2,19.8 S 218.4,20.0 222.6,20.0 S 226.8,13.9 231.0,13.9 S 235.2,12.8 239.4,12.8 S 243.6,11.7 247.8,11.7 S 252.0,20.0 256.2,20.0 S 260.4,11.0 264.6,11.0 S 268.8,18.3 273.0,18.3 S 277.2,16.5 281.4,16.5 S 285.6,19.0 289.8,19.0 S 294.0,15.9 298.2,15.9 S 302.4,19.9 306.6,19.9 S 310.8,19.8 315.0,19.8 S 319.2,16.3 323.4,16.3 S 327.6,20.0 331.8,20.0 S 336.0,19.9 340.2,19.9 S 344.4,20.0 348.6,20.0 S 352.8,1.4 357.0,1.4 S 361.2,5.6 365.4,5.6 S 369.6,20.0 373.8,20.0 S 378.0,19.9 382.2,19.9 S 386.4,20.0 390.6,20.0 S 394.8,19.3 399.0,19.3 S 403.2,10.4 407.4,10.4 S 411.6,17.0 415.8,17.0 S 420.0,16.4 424.2,16.4 S 428.4,20.0 432.6,20.0 S 436.8,9.6 441.0,9.6 S 445.2,20.0 449.4,20.0 S 453.6,16.4 457.8,16.4 S 462.0,19.7 466.2,19.7 S 470.4,20.0 474.6,20.0 S 478.8,20.0 483.0,20.0 S 487.2,-2.4 491.4,-2.4 S 495.6,18.5 499.8,18.5 S 504.0,11.9 508.2,11.9 S 512.4,10.5 516.6,10.5 S 520.8,12.7 525.0,12.7 S 529.2,19.7 533.4,19.7 S 537.6,18.9 541.8,18.9 S 546.0,11.5 550.2,11.5 S 554.4,16.0 558.6,16.0 S 562.8,19.5 567.0,19.5 S 571.2,20.0 575.4,20.0 S 579.6,11.4 583.8,11.4 S 588.0,11.0 592.2,11.0 S 596.4,16.4 600.6,16.4 S 604.8,19.6 609.0,19.6 S 613.2,19.6 617.4,19.6 S 621.6,19.7 625.8,19.7 S 630.0,20.0 634.2,20.0 S 638.4,17.8 642.6,17.8 S 646.8,17.5 651.0,17.5 S 655.2,19.7 659.4,19.7 S 663.6,20.0 667.8,20.0 S 672.0,2.1 676.2,2.1\" fill=\"none\" stroke=\"#ef4444\" stroke-width=\"1\" style=\"mix-blend-mode: multiply;\" clip-path=\"url(#clip-139769096879328)\" /><path d=\"M -4.2,9.2 S 0.0,13.4 4.2,13.4 S 8.4,19.0 12.6,19.0 S 16.8,19.4 21.0,19.4 S 25.2,19.9 29.4,19.9 S 33.6,17.9 37.8,17.9 S 42.0,16.9 46.2,16.9 S 50.4,16.1 54.6,16.1 S 58.8,18.4 63.0,18.4 S 67.2,16.5 71.4,16.5 S 75.6,10.5 79.8,10.5 S 84.0,15.4 88.2,15.4 S 92.4,13.6 96.6,13.6 S 100.8,14.1 105.0,14.1 S 109.2,16.2 113.4,16.2 S 117.6,10.9 121.8,10.9 S 126.0,18.3 130.2,18.3 S 134.4,20.0 138.6,20.0 S 142.8,14.4 147.0,14.4 S 151.2,11.7 155.4,11.7 S 159.6,15.7 163.8,15.7 S 168.0,19.8 172.2,19.8 S 176.4,18.3 180.6,18.3 S 184.8,14.8 189.0,14.8 S 193.2,11.2 197.4,11.2 S 201.6,17.7 205.8,17.7 S 210.0,19.0 214.2,19.0 S 218.4,19.7 222.6,19.7 S 226.8,8.6 231.0,8.6 S 235.2,13.3 239.4,13.3 S 243.6,10.6 247.8,10.6 S 252.0,19.8 256.2,19.8 S 260.4,17.9 264.6,17.9 S 268.8,16.5 273.0,16.5 S 277.2,14.6 281.4,14.6 S 285.6,16.5 289.8,16.5 S 294.0,10.3 298.2,10.3 S 302.4,19.5 306.6,19.5 S 310.8,19.2 315.0,19.2 S 319.2,12.4 323.4,12.4 S 327.6,19.9 331.8,19.9 S 336.0,19.5 340.2,19.5 S 344.4,19.9 348.6,19.9 S 352.8,8.4 357.0,8.4 S 361.2,11.9 365.4,11.9 S 369.6,19.9 373.8,19.9 S 378.0,19.6 382.2,19.6 S 386.4,20.0 390.6,20.0 S 394.8,17.4 399.0,17.4 S 403.2,9.1 407.4,9.1 S 411.6,14.9 415.8,14.9 S 420.0,14.0 424.2,14.0 S 428.4,20.0 432.6,20.0 S 436.8,14.2 441.0,14.2 S 445.2,20.0 449.4,20.0 S 453.6,12.5 457.8,12.5 S 462.0,18.7 466.2,18.7 S 470.4,20.0 474.6,20.0 S 478.8,20.0 483.0,20.0 S 487.2,11.7 491.4,11.7 S 495.6,15.4 499.8,15.4 S 504.0,16.2 508.2,16.2 S 512.4,12.8 516.6,12.8 S 520.8,13.2 525.0,13.2 S 529.2,18.5 533.4,18.5 S 537.6,15.9 541.8,15.9 S 546.0,10.4 550.2,10.4 S 554.4,14.3 558.6,14.3 S 562.8,18.4 567.0,18.4 S 571.2,19.9 575.4,19.9 S 579.6,8.4 583.8,8.4 S 588.0,10.9 592.2,10.9 S 596.4,13.4 600.6,13.4 S 604.8,18.5 609.0,18.5 S 613.2,18.3 617.4,18.3 S 621.6,18.8 625.8,18.8 S 630.0,19.9 634.2,19.9 S 638.4,13.1 642.6,13.1 S 646.8,16.9 651.0,16.9 S 655.2,18.8 659.4,18.8 S 663.6,19.9 667.8,19.9 S 672.0,8.3 676.2,8.3\" fill=\"none\" stroke=\"#3b82f6\" stroke-width=\"1\" style=\"mix-blend-mode: multiply;\" clip-path=\"url(#clip-139769096879328)\" /><path d=\"M4.0,20.0 L4.4,20.0 M12.4,20.0 L12.8,20.0 M20.8,20.0 L21.2,20.0 M29.2,20.0 L29.6,20.0 M37.6,20.0 L38.0,20.0 M46.0,20.0 L46.4,20.0 M54.4,20.0 L54.8,20.0 M62.8,20.0 L63.2,20.0 M71.2,20.0 L71.6,20.0 M79.6,20.0 L80.0,20.0 M88.0,20.0 L88.4,20.0 M96.4,20.0 L96.8,20.0 M104.8,20.0 L105.2,20.0 M113.2,20.0 L113.6,20.0 M121.6,20.0 L122.0,20.0 M130.0,20.0 L130.4,20.0 M138.4,20.0 L138.8,20.0 M146.8,20.0 L147.2,20.0 M155.2,20.0 L155.6,20.0 M163.6,20.0 L164.0,20.0 M172.0,20.0 L172.4,20.0 M180.4,20.0 L180.8,20.0 M188.8,20.0 L189.2,20.0 M197.2,20.0 L197.6,20.0 M205.6,20.0 L206.0,20.0 M214.0,20.0 L214.4,20.0 M222.4,20.0 L222.8,20.0 M230.8,20.0 L231.2,20.0 M239.2,20.0 L239.6,20.0 M247.6,20.0 L248.0,20.0 M256.0,20.0 L256.4,20.0 M264.4,20.0 L264.8,20.0 M272.8,20.0 L273.2,20.0 M281.2,20.0 L281.6,20.0 M289.6,20.0 L290.0,20.0 M298.0,20.0 L298.4,20.0 M306.4,20.0 L306.8,20.0 M314.8,20.0 L315.2,20.0 M323.2,20.0 L323.6,20.0 M331.6,20.0 L332.0,20.0 M340.0,20.0 L340.4,20.0 M348.4,20.0 L348.8,20.0 M356.8,20.0 L357.2,20.0 M365.2,20.0 L365.6,20.0 M373.6,20.0 L374.0,20.0 M382.0,20.0 L382.4,20.0 M390.4,20.0 L390.8,20.0 M398.8,20.0 L399.2,20.0 M407.2,20.0 L407.6,20.0 M415.6,20.0 L416.0,20.0 M424.0,20.0 L424.4,20.0 M432.4,20.0 L432.8,20.0 M440.8,20.0 L441.2,20.0 M449.2,20.0 L449.6,20.0 M457.6,20.0 L458.0,20.0 M466.0,20.0 L466.4,20.0 M474.4,20.0 L474.8,20.0 M482.8,20.0 L483.2,20.0 M491.2,20.0 L491.6,20.0 M499.6,20.0 L500.0,20.0 M508.0,20.0 L508.4,20.0 M516.4,20.0 L516.8,20.0 M524.8,20.0 L525.2,20.0 M533.2,20.0 L533.6,20.0 M541.6,20.0 L542.0,20.0 M550.0,20.0 L550.4,20.0 M558.4,20.0 L558.8,20.0 M566.8,20.0 L567.2,20.0 M575.2,20.0 L575.6,20.0 M583.6,20.0 L584.0,20.0 M592.0,20.0 L592.4,20.0 M600.4,20.0 L600.8,20.0 M608.8,20.0 L609.2,20.0 M617.2,20.0 L617.6,20.0 M625.6,20.0 L626.0,20.0 M634.0,20.0 L634.4,20.0 M642.4,20.0 L642.8,20.0 M650.8,20.0 L651.2,20.0 M659.2,20.0 L659.6,20.0 M667.6,20.0 L668.0,20.0\" fill=\"none\" stroke=\"#ddd\" stroke-width=\"3\" stroke-linecap=\"round\" style=\"mix-blend-mode: multiply;\" /></g><g transform=\"translate(692.0, 266)\"><path d=\"M   0,0.941307L1.02564,   0L2.05128,0.0694608L3.07692,1.03017L4.10256,2.62645L5.12821,4.54711L6.15385,6.50475L7.17949,8.28754L8.20513,9.7757L9.23077,10.9313L10.2564,11.7762L11.2821,12.3713L12.3077,12.7993L13.3333,13.1521L14.359,13.5168L15.3846,13.961L16.4103,14.5201L17.4359,15.19L18.4615,15.9303L19.4872,16.6766L20.5128,17.3585L21.5385,17.9184L22.5641,18.3238L23.5897,18.5715L24.6154,18.6841L25.641,18.7008L26.6667,18.6665L27.6923,18.6214L28.7179,18.5946L29.7436,18.6003L30.7692,18.6388L31.7949,18.7003L32.8205,18.7695L33.8462,18.8324L34.8718,18.8807L35.8974,18.9141L36.9231,18.9408L37.9487,18.974L38.9744,19.0269L  40,19.1081L  40,  20L0,  20\" fill=\"#ef4444\" opacity=\"0.05\" style=\"mix-blend-mode: multiply;\" /><path d=\"M   0,0.941307L1.02564,   0L2.05128,0.0694608L3.07692,1.03017L4.10256,2.62645L5.12821,4.54711L6.15385,6.50475L7.17949,8.28754L8.20513,9.7757L9.23077,10.9313L10.2564,11.7762L11.2821,12.3713L12.3077,12.7993L13.3333,13.1521L14.359,13.5168L15.3846,13.961L16.4103,14.5201L17.4359,15.19L18.4615,15.9303L19.4872,16.6766L20.5128,17.3585L21.5385,17.9184L22.5641,18.3238L23.5897,18.5715L24.6154,18.6841L25.641,18.7008L26.6667,18.6665L27.6923,18.6214L28.7179,18.5946L29.7436,18.6003L30.7692,18.6388L31.7949,18.7003L32.8205,18.7695L33.8462,18.8324L34.8718,18.8807L35.8974,18.9141L36.9231,18.9408L37.9487,18.974L38.9744,19.0269L  40,19.1081\" stroke=\"#ef4444\" stroke-width=\"1\" fill=\"none\" style=\"mix-blend-mode: multiply;\" /><path d=\"M   0,2.58259L1.02564,1.25074L2.05128,0.382576L3.07692,   0L4.10256,0.0734236L5.12821,0.529825L6.15385,1.26732L7.17949,2.17266L8.20513,3.13797L9.23077,4.07363L10.2564,4.9156L11.2821,5.62714L12.3077,6.19588L13.3333,6.62825L14.359,6.94311L15.3846,7.16612L16.4103,7.32564L17.4359,7.44999L18.4615,7.56572L19.4872,7.69609L20.5128,7.85954L21.5385,8.06833L22.5641,8.32758L23.5897,8.6355L24.6154,8.98491L25.641,9.36583L26.6667,9.76857L27.6923,10.1863L28.7179,10.6163L29.7436,11.06L30.7692,11.5207L31.7949,12.0022L32.8205,12.5058L33.8462,13.0304L34.8718,13.5719L35.8974,14.1245L36.9231,14.6827L37.9487,15.241L38.9744,15.7952L  40,16.3404L  40,  20L0,  20\" fill=\"#3b82f6\" opacity=\"0.05\" style=\"mix-blend-mode: multiply;\" /><path d=\"M   0,2.58259L1.02564,1.25074L2.05128,0.382576L3.07692,   0L4.10256,0.0734236L5.12821,0.529825L6.15385,1.26732L7.17949,2.17266L8.20513,3.13797L9.23077,4.07363L10.2564,4.9156L11.2821,5.62714L12.3077,6.19588L13.3333,6.62825L14.359,6.94311L15.3846,7.16612L16.4103,7.32564L17.4359,7.44999L18.4615,7.56572L19.4872,7.69609L20.5128,7.85954L21.5385,8.06833L22.5641,8.32758L23.5897,8.6355L24.6154,8.98491L25.641,9.36583L26.6667,9.76857L27.6923,10.1863L28.7179,10.6163L29.7436,11.06L30.7692,11.5207L31.7949,12.0022L32.8205,12.5058L33.8462,13.0304L34.8718,13.5719L35.8974,14.1245L36.9231,14.6827L37.9487,15.241L38.9744,15.7952L  40,16.3404\" stroke=\"#3b82f6\" stroke-width=\"1\" fill=\"none\" style=\"mix-blend-mode: multiply;\" /><line x1=\"0\" y1=\"20\" x2=\"40\" y2=\"20\" stroke=\"silver\" shape-rendering=\"crispEdges\" style=\"mix-blend-mode: multiply;\" /></g><g transform=\"translate(10, 313)\"><text font-family=\"Courier\" font-size=\"14\" y=\"-2.8\" text-anchor=\"middle\" fill=\"#666666\"><tspan x=\"4.2\">d</tspan><tspan x=\"12.6\">e</tspan><tspan x=\"21\">a</tspan><tspan x=\"29.4\">t</tspan><tspan x=\"37.8\">h</tspan><tspan x=\"46.2\"> </tspan><tspan x=\"54.6\">o</tspan><tspan x=\"63\">f</tspan><tspan x=\"71.4\"> </tspan><tspan x=\"79.8\">t</tspan><tspan x=\"88.2\">h</tspan><tspan x=\"96.6\">e</tspan><tspan x=\"105\"> </tspan><tspan x=\"113.4\">h</tspan><tspan x=\"121.8\">o</tspan><tspan x=\"130.2\">u</tspan><tspan x=\"138.6\">r</tspan><tspan x=\"147\"> </tspan><tspan x=\"155.4\">a</tspan><tspan x=\"163.8\">s</tspan><tspan x=\"172.2\">s</tspan><tspan x=\"180.6\">u</tspan><tspan x=\"189\">p</tspan><tspan x=\"197.4\">a</tspan><tspan x=\"205.8\">t</tspan><tspan x=\"214.2\">h</tspan><tspan x=\"222.6\">.</tspan><tspan x=\"231\">\n",
       "</tspan><tspan x=\"239.4\">\n",
       "</tspan><tspan x=\"247.8\">\"</tspan><tspan x=\"256.2\">T</tspan><tspan x=\"264.6\">h</tspan><tspan x=\"273\">i</tspan><tspan x=\"281.4\">n</tspan><tspan x=\"289.8\"> </tspan><tspan x=\"298.2\">s</tspan><tspan x=\"306.6\">h</tspan><tspan x=\"315\">e</tspan></text></g><g transform=\"translate(10, 314)\"><clipPath id=\"clip-139769096965952\"><rect x=\"0\" y=\"-20\" width=\"319.2\" height=\"40\" /></clipPath><path d=\"M -4.2,20.0 S 0.0,2.1 4.2,2.1 S 8.4,15.2 12.6,15.2 S 16.8,17.0 21.0,17.0 S 25.2,14.9 29.4,14.9 S 33.6,20.0 37.8,20.0 S 42.0,18.5 46.2,18.5 S 50.4,13.4 54.6,13.4 S 58.8,19.9 63.0,19.9 S 67.2,20.0 71.4,20.0 S 75.6,18.6 79.8,18.6 S 84.0,20.0 88.2,20.0 S 92.4,20.0 96.6,20.0 S 100.8,20.0 105.0,20.0 S 109.2,6.0 113.4,6.0 S 117.6,19.5 121.8,19.5 S 126.0,17.7 130.2,17.7 S 134.4,18.6 138.6,18.6 S 142.8,12.4 147.0,12.4 S 151.2,7.7 155.4,7.7 S 159.6,8.2 163.8,8.2 S 168.0,8.1 172.2,8.1 S 176.4,13.9 180.6,13.9 S 184.8,15.6 189.0,15.6 S 193.2,7.7 197.4,7.7 S 201.6,13.9 205.8,13.9 S 210.0,14.4 214.2,14.4 S 218.4,9.8 222.6,9.8 S 226.8,18.3 231.0,18.3 S 235.2,20.0 239.4,20.0 S 243.6,17.4 247.8,17.4 S 252.0,13.8 256.2,13.8 S 260.4,20.0 264.6,20.0 S 268.8,16.5 273.0,16.5 S 277.2,18.4 281.4,18.4 S 285.6,19.4 289.8,19.4 S 294.0,10.5 298.2,10.5 S 302.4,17.6 306.6,17.6 S 310.8,19.9 315.0,19.9\" fill=\"none\" stroke=\"#ef4444\" stroke-width=\"1\" style=\"mix-blend-mode: multiply;\" clip-path=\"url(#clip-139769096965952)\" /><path d=\"M -4.2,19.9 S 0.0,8.3 4.2,8.3 S 8.4,13.4 12.6,13.4 S 16.8,13.5 21.0,13.5 S 25.2,15.8 29.4,15.8 S 33.6,19.7 37.8,19.7 S 42.0,16.4 46.2,16.4 S 50.4,10.0 54.6,10.0 S 58.8,19.5 63.0,19.5 S 67.2,20.0 71.4,20.0 S 75.6,15.0 79.8,15.0 S 84.0,20.0 88.2,20.0 S 92.4,19.7 96.6,19.7 S 100.8,19.8 105.0,19.8 S 109.2,8.4 113.4,8.4 S 117.6,18.1 121.8,18.1 S 126.0,15.8 130.2,15.8 S 134.4,16.4 138.6,16.4 S 142.8,16.5 147.0,16.5 S 151.2,8.9 155.4,8.9 S 159.6,12.7 163.8,12.7 S 168.0,16.7 172.2,16.7 S 176.4,13.9 180.6,13.9 S 184.8,13.4 189.0,13.4 S 193.2,12.5 197.4,12.5 S 201.6,15.9 205.8,15.9 S 210.0,15.0 214.2,15.0 S 218.4,13.3 222.6,13.3 S 226.8,17.2 231.0,17.2 S 235.2,20.0 239.4,20.0 S 243.6,14.0 247.8,14.0 S 252.0,11.0 256.2,11.0 S 260.4,19.9 264.6,19.9 S 268.8,14.3 273.0,14.3 S 277.2,17.2 281.4,17.2 S 285.6,17.9 289.8,17.9 S 294.0,9.9 298.2,9.9 S 302.4,14.3 306.6,14.3 S 310.8,19.5 315.0,19.5\" fill=\"none\" stroke=\"#3b82f6\" stroke-width=\"1\" style=\"mix-blend-mode: multiply;\" clip-path=\"url(#clip-139769096965952)\" /><path d=\"M4.0,20.0 L4.4,20.0 M12.4,20.0 L12.8,20.0 M20.8,20.0 L21.2,20.0 M29.2,20.0 L29.6,20.0 M37.6,20.0 L38.0,20.0 M46.0,20.0 L46.4,20.0 M54.4,20.0 L54.8,20.0 M62.8,20.0 L63.2,20.0 M71.2,20.0 L71.6,20.0 M79.6,20.0 L80.0,20.0 M88.0,20.0 L88.4,20.0 M96.4,20.0 L96.8,20.0 M104.8,20.0 L105.2,20.0 M113.2,20.0 L113.6,20.0 M121.6,20.0 L122.0,20.0 M130.0,20.0 L130.4,20.0 M138.4,20.0 L138.8,20.0 M146.8,20.0 L147.2,20.0 M155.2,20.0 L155.6,20.0 M163.6,20.0 L164.0,20.0 M172.0,20.0 L172.4,20.0 M180.4,20.0 L180.8,20.0 M188.8,20.0 L189.2,20.0 M197.2,20.0 L197.6,20.0 M205.6,20.0 L206.0,20.0 M214.0,20.0 L214.4,20.0 M222.4,20.0 L222.8,20.0 M230.8,20.0 L231.2,20.0 M239.2,20.0 L239.6,20.0 M247.6,20.0 L248.0,20.0 M256.0,20.0 L256.4,20.0 M264.4,20.0 L264.8,20.0 M272.8,20.0 L273.2,20.0 M281.2,20.0 L281.6,20.0 M289.6,20.0 L290.0,20.0 M298.0,20.0 L298.4,20.0 M306.4,20.0 L306.8,20.0 M314.8,20.0 L315.2,20.0\" fill=\"none\" stroke=\"#ddd\" stroke-width=\"3\" stroke-linecap=\"round\" style=\"mix-blend-mode: multiply;\" /></g><g transform=\"translate(692.0, 314)\"><path d=\"M   0,2.25816L1.02564,1.05446L2.05128,0.298238L3.07692,   0L4.10256,0.125029L5.12821,0.602909L6.15385,1.34252L7.17949,2.24896L8.20513,3.23856L9.23077,4.24897L10.2564,5.24279L11.2821,6.2047L12.3077,7.13411L13.3333,8.03564L14.359,8.91057L15.3846,9.75144L16.4103,10.541L17.4359,11.2551L18.4615,11.869L19.4872,12.3641L20.5128,12.7341L21.5385,12.9883L22.5641,13.1512L23.5897,13.2598L24.6154,13.3571L25.641,13.485L26.6667,13.6779L27.6923,13.9568L28.7179,14.3266L29.7436,14.7771L30.7692,15.2849L31.7949,15.8194L32.8205,16.348L33.8462,16.8422L34.8718,17.2814L35.8974,17.6552L36.9231,17.9637L37.9487,18.215L38.9744,18.4223L  40,18.6004L  40,  20L0,  20\" fill=\"#ef4444\" opacity=\"0.05\" style=\"mix-blend-mode: multiply;\" /><path d=\"M   0,2.25816L1.02564,1.05446L2.05128,0.298238L3.07692,   0L4.10256,0.125029L5.12821,0.602909L6.15385,1.34252L7.17949,2.24896L8.20513,3.23856L9.23077,4.24897L10.2564,5.24279L11.2821,6.2047L12.3077,7.13411L13.3333,8.03564L14.359,8.91057L15.3846,9.75144L16.4103,10.541L17.4359,11.2551L18.4615,11.869L19.4872,12.3641L20.5128,12.7341L21.5385,12.9883L22.5641,13.1512L23.5897,13.2598L24.6154,13.3571L25.641,13.485L26.6667,13.6779L27.6923,13.9568L28.7179,14.3266L29.7436,14.7771L30.7692,15.2849L31.7949,15.8194L32.8205,16.348L33.8462,16.8422L34.8718,17.2814L35.8974,17.6552L36.9231,17.9637L37.9487,18.215L38.9744,18.4223L  40,18.6004\" stroke=\"#ef4444\" stroke-width=\"1\" fill=\"none\" style=\"mix-blend-mode: multiply;\" /><path d=\"M   0,5.88041L1.02564,4.95788L2.05128,4.2242L3.07692,3.66031L4.10256,3.23071L5.12821,2.89114L6.15385,2.59714L7.17949,2.31175L8.20513,2.0108L9.23077,1.68502L10.2564,1.33915L11.2821,0.988814L12.3077,0.656392L13.3333,0.367087L14.359,0.146022L15.3846,0.0166221L16.4103,   0L17.4359,0.114692L18.4615,0.37607L19.4872,0.794983L20.5128,1.37563L21.5385,2.11313L22.5641,2.9915L23.5897,3.98302L24.6154,5.04929L25.641,6.1445L26.6667,7.22023L27.6923,8.23119L28.7179,9.14073L29.7436,9.92528L30.7692,10.5768L31.7949,11.1027L32.8205,11.5243L33.8462,11.8726L34.8718,12.1833L35.8974,12.4924L36.9231,12.8308L37.9487,13.2213L38.9744,13.6761L  40,14.1964L  40,  20L0,  20\" fill=\"#3b82f6\" opacity=\"0.05\" style=\"mix-blend-mode: multiply;\" /><path d=\"M   0,5.88041L1.02564,4.95788L2.05128,4.2242L3.07692,3.66031L4.10256,3.23071L5.12821,2.89114L6.15385,2.59714L7.17949,2.31175L8.20513,2.0108L9.23077,1.68502L10.2564,1.33915L11.2821,0.988814L12.3077,0.656392L13.3333,0.367087L14.359,0.146022L15.3846,0.0166221L16.4103,   0L17.4359,0.114692L18.4615,0.37607L19.4872,0.794983L20.5128,1.37563L21.5385,2.11313L22.5641,2.9915L23.5897,3.98302L24.6154,5.04929L25.641,6.1445L26.6667,7.22023L27.6923,8.23119L28.7179,9.14073L29.7436,9.92528L30.7692,10.5768L31.7949,11.1027L32.8205,11.5243L33.8462,11.8726L34.8718,12.1833L35.8974,12.4924L36.9231,12.8308L37.9487,13.2213L38.9744,13.6761L  40,14.1964\" stroke=\"#3b82f6\" stroke-width=\"1\" fill=\"none\" style=\"mix-blend-mode: multiply;\" /><line x1=\"0\" y1=\"20\" x2=\"40\" y2=\"20\" stroke=\"silver\" shape-rendering=\"crispEdges\" style=\"mix-blend-mode: multiply;\" /></g><g transform=\"translate(752.0, 15)\"><line x1=\"0\" y1=\"0\" x2=\"20\" y2=\"0\" stroke=\"#ef4444\" stroke-width=\"1\" shape-rendering=\"crispEdges\" /><text x=\"25\" y=\"4\" font-family=\"system-ui\" font-size=\"10\" fill=\"#666666\">Perplexity</text><line x1=\"0\" y1=\"15\" x2=\"20\" y2=\"15\" stroke=\"#3b82f6\" stroke-width=\"1\" shape-rendering=\"crispEdges\" /><text x=\"25\" y=\"19\" font-family=\"system-ui\" font-size=\"10\" fill=\"#666666\">Entropy</text></g><g transform=\"translate(752.0, 52)\"><path d=\"M   0,2.32301L1.01266,   0L2.02532,0.481194L3.03797,3.22902L4.05063,7.26943L5.06329,11.6043L6.07595,15.5192L7.08861,18.6786L8.10127,21.052L9.11392,22.7784L10.1266,24.0555L11.1392,25.0737L12.1519,25.9834L13.1646,26.8812L14.1772,27.8094L15.1899,28.7692L16.2025,29.7404L17.2152,30.699L18.2278,31.6247L19.2405,32.4981L20.2532,33.2944L21.2658,33.9818L22.2785,34.5296L23.2911,34.9238L24.3038,35.1784L25.3165,35.3344L26.3291,35.4434L27.3418,35.5461L28.3544,35.6595L29.3671,35.7811L30.3797,35.9046L31.3924,36.0364L32.4051,36.198L33.4177,36.4156L34.4304,36.7027L35.443,37.051L36.4557,37.433L37.4684,37.8161L38.481,38.1754L39.4937,38.4994L40.5063,38.7865L41.519,39.0365L42.5316,39.2461L43.5443,39.41L44.557,39.5251L45.5696,39.5945L46.5823,39.6275L47.5949,39.6376L48.6076,39.6396L49.6203,39.6466L50.6329,39.6677L51.6456,39.706L52.6582,39.7583L53.6709,39.8168L54.6835,39.8726L55.6962,39.9188L56.7089,39.952L57.7215,39.9721L58.7342,39.9805L59.7468,39.9788L60.7595,39.9678L61.7722,39.9483L62.7848,39.9221L63.7975,39.8931L64.8101,39.8676L65.8228,39.8519L66.8354,39.8505L67.8481,39.8638L68.8608,39.8879L69.8734,39.9162L70.8861,39.9423L71.8987,39.961L72.9114,39.9697L73.9241,39.9674L74.9367,39.9544L75.9494,39.9322L76.962,39.9045L77.9747,39.8771L78.9873,39.8567L  80,39.8492L  80,  40L0,  40\" fill=\"#ef4444\" opacity=\"0.05\" style=\"mix-blend-mode: multiply;\" /><path d=\"M   0,2.32301L1.01266,   0L2.02532,0.481194L3.03797,3.22902L4.05063,7.26943L5.06329,11.6043L6.07595,15.5192L7.08861,18.6786L8.10127,21.052L9.11392,22.7784L10.1266,24.0555L11.1392,25.0737L12.1519,25.9834L13.1646,26.8812L14.1772,27.8094L15.1899,28.7692L16.2025,29.7404L17.2152,30.699L18.2278,31.6247L19.2405,32.4981L20.2532,33.2944L21.2658,33.9818L22.2785,34.5296L23.2911,34.9238L24.3038,35.1784L25.3165,35.3344L26.3291,35.4434L27.3418,35.5461L28.3544,35.6595L29.3671,35.7811L30.3797,35.9046L31.3924,36.0364L32.4051,36.198L33.4177,36.4156L34.4304,36.7027L35.443,37.051L36.4557,37.433L37.4684,37.8161L38.481,38.1754L39.4937,38.4994L40.5063,38.7865L41.519,39.0365L42.5316,39.2461L43.5443,39.41L44.557,39.5251L45.5696,39.5945L46.5823,39.6275L47.5949,39.6376L48.6076,39.6396L49.6203,39.6466L50.6329,39.6677L51.6456,39.706L52.6582,39.7583L53.6709,39.8168L54.6835,39.8726L55.6962,39.9188L56.7089,39.952L57.7215,39.9721L58.7342,39.9805L59.7468,39.9788L60.7595,39.9678L61.7722,39.9483L62.7848,39.9221L63.7975,39.8931L64.8101,39.8676L65.8228,39.8519L66.8354,39.8505L67.8481,39.8638L68.8608,39.8879L69.8734,39.9162L70.8861,39.9423L71.8987,39.961L72.9114,39.9697L73.9241,39.9674L74.9367,39.9544L75.9494,39.9322L76.962,39.9045L77.9747,39.8771L78.9873,39.8567L  80,39.8492\" stroke=\"#ef4444\" stroke-width=\"1\" fill=\"none\" style=\"mix-blend-mode: multiply;\" /><path d=\"M   0,4.40629L1.01266,2.39682L2.02532,0.978423L3.03797,0.182821L4.05063,   0L5.06329,0.380845L6.07595,1.24377L7.08861,2.48424L8.10127,3.98571L9.11392,5.63051L10.1266,7.30951L11.1392,8.92945L12.1519,10.4177L13.1646,11.7243L14.1772,12.8214L15.1899,13.7012L16.2025,14.3721L17.2152,14.8543L18.2278,15.1754L19.2405,15.3657L20.2532,15.4547L21.2658,15.4679L22.2785,15.4255L23.2911,15.3411L24.3038,15.2225L25.3165,15.0731L26.3291,14.8934L27.3418,14.6837L28.3544,14.4458L29.3671,14.1849L30.3797,13.9105L31.3924,13.6366L32.4051,13.3809L33.4177,13.1638L34.4304,13.0063L35.443,12.9286L36.4557,12.9474L37.4684,13.0749L38.481,13.3176L39.4937,13.6756L40.5063,14.1425L41.519,14.7066L42.5316,15.3515L43.5443,16.0576L44.557,16.8043L45.5696,17.5708L46.5823,18.338L47.5949,19.0894L48.6076,19.812L49.6203,20.4965L50.6329,21.1373L51.6456,21.7323L52.6582,22.2821L53.6709,22.7897L54.6835,23.2595L55.6962,23.6967L56.7089,24.1068L57.7215,24.495L58.7342,24.8662L59.7468,25.2244L60.7595,25.5736L61.7722,25.9172L62.7848,26.2591L63.7975,26.6039L64.8101,26.9572L65.8228,27.3257L66.8354,27.7172L67.8481,28.1403L68.8608,28.6033L69.8734,29.1133L70.8861,29.6756L71.8987,30.2918L72.9114,30.9602L73.9241,31.6743L74.9367,32.4241L75.9494,33.1959L76.962,33.9736L77.9747,34.7402L78.9873,35.4792L  80,36.1754L  80,  40L0,  40\" fill=\"#3b82f6\" opacity=\"0.05\" style=\"mix-blend-mode: multiply;\" /><path d=\"M   0,4.40629L1.01266,2.39682L2.02532,0.978423L3.03797,0.182821L4.05063,   0L5.06329,0.380845L6.07595,1.24377L7.08861,2.48424L8.10127,3.98571L9.11392,5.63051L10.1266,7.30951L11.1392,8.92945L12.1519,10.4177L13.1646,11.7243L14.1772,12.8214L15.1899,13.7012L16.2025,14.3721L17.2152,14.8543L18.2278,15.1754L19.2405,15.3657L20.2532,15.4547L21.2658,15.4679L22.2785,15.4255L23.2911,15.3411L24.3038,15.2225L25.3165,15.0731L26.3291,14.8934L27.3418,14.6837L28.3544,14.4458L29.3671,14.1849L30.3797,13.9105L31.3924,13.6366L32.4051,13.3809L33.4177,13.1638L34.4304,13.0063L35.443,12.9286L36.4557,12.9474L37.4684,13.0749L38.481,13.3176L39.4937,13.6756L40.5063,14.1425L41.519,14.7066L42.5316,15.3515L43.5443,16.0576L44.557,16.8043L45.5696,17.5708L46.5823,18.338L47.5949,19.0894L48.6076,19.812L49.6203,20.4965L50.6329,21.1373L51.6456,21.7323L52.6582,22.2821L53.6709,22.7897L54.6835,23.2595L55.6962,23.6967L56.7089,24.1068L57.7215,24.495L58.7342,24.8662L59.7468,25.2244L60.7595,25.5736L61.7722,25.9172L62.7848,26.2591L63.7975,26.6039L64.8101,26.9572L65.8228,27.3257L66.8354,27.7172L67.8481,28.1403L68.8608,28.6033L69.8734,29.1133L70.8861,29.6756L71.8987,30.2918L72.9114,30.9602L73.9241,31.6743L74.9367,32.4241L75.9494,33.1959L76.962,33.9736L77.9747,34.7402L78.9873,35.4792L  80,36.1754\" stroke=\"#3b82f6\" stroke-width=\"1\" fill=\"none\" style=\"mix-blend-mode: multiply;\" /><line x1=\"0\" y1=\"40\" x2=\"80\" y2=\"40\" stroke=\"silver\" shape-rendering=\"crispEdges\" style=\"mix-blend-mode: multiply;\" /></g></svg>"
      ],
      "text/plain": [
       "<IPython.core.display.HTML object>"
      ]
     },
     "metadata": {},
     "output_type": "display_data"
    }
   ],
   "source": [
    "from utils import text_metrics_vis\n",
    "viz = text_metrics_vis(chars_per_line=80, vocab_size=vocab_size)\n",
    "viz.visualize(generation, perplexities.cpu(), entropies.cpu())"
   ]
  },
  {
   "cell_type": "markdown",
   "metadata": {},
   "source": [
    "# Future research\n",
    "\n",
    "### Temperature as a resource\n",
    "\n",
    "It's interesting to note that the first character of each word is high entropy and high perplexity, and subsequent characters are lower. And where the model makes spelling mistakes, it often had low entropy but then high perplexity! Which suggests that it knows what it wants to write, but the sampling mechanism is messing it up.\n",
    "\n",
    "I'd like to see if it improves to lower the temperature after the first letter of each word. How would that generalise to languages that don't use spaces? Perhaps the temperature could be a resource that gets used (by picking unlikely tokens) and gradually replenished (by picking likely ones). Yeah that could be really cool!"
   ]
  },
  {
   "cell_type": "markdown",
   "metadata": {},
   "source": [
    "# References\n",
    "\n",
    "Karpathy, A. (2022). nanoGPT [Computer software]. GitHub. https://github.com/karpathy/nanoGPT\n",
    "\n",
    "Sanderson, G. (2024a). Visualizing attention, a transformer's heart. 3Blue1Brown. https://www.3blue1brown.com/lessons/attention\n",
    "\n",
    "Sanderson, G. (2024b). How might LLMs store facts. 3Blue1Brown. https://www.3blue1brown.com/lessons/mlp\n",
    "\n",
    "# Software Licenses\n",
    "\n",
    "The code in this notebook is derived from nanoGPT (Karpathy, 2022), which is licensed under the MIT License, Copyright (c) 2022 Andrej Karpathy."
   ]
  }
 ],
 "metadata": {
  "accelerator": "GPU",
  "kaggle": {
   "accelerator": "none",
   "dataSources": [
    {
     "datasetId": 4019756,
     "sourceId": 6993633,
     "sourceType": "datasetVersion"
    },
    {
     "sourceId": 216420817,
     "sourceType": "kernelVersion"
    }
   ],
   "dockerImageVersionId": 30805,
   "isGpuEnabled": false,
   "isInternetEnabled": true,
   "language": "python",
   "sourceType": "notebook"
  },
  "kernelspec": {
   "display_name": ".venv",
   "language": "python",
   "name": "python3"
  },
  "language_info": {
   "codemirror_mode": {
    "name": "ipython",
    "version": 3
   },
   "file_extension": ".py",
   "mimetype": "text/x-python",
   "name": "python",
   "nbconvert_exporter": "python",
   "pygments_lexer": "ipython3",
   "version": "3.13.1"
  }
 },
 "nbformat": 4,
 "nbformat_minor": 4
}
